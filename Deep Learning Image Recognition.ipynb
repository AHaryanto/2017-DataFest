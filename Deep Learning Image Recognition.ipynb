{
 "cells": [
  {
   "cell_type": "markdown",
   "metadata": {
    "colab_type": "text",
    "id": "Bw08mb_cN6uz"
   },
   "source": [
    "**Problem Statement:**\n",
    "\n",
    "We have 5,310 pairs of single photos that we have to submit probabilities of being related to eachother between 0-1. With 0 being not related at all to 1 being related.\n",
    "\n",
    "**Dataset:**\n",
    "\n",
    "We have been given a training dataset of 3,598 pairs of individuals who ARE related to eachother and part of one of 470 families in the dataset. Each of these individuals has at least one photo.\n",
    "\n",
    "**Models used**\n",
    "\n",
    "- FaceNet \n",
    "- VGG Face\n",
    "- OpenCV - Age Detection and Gender Detection\n",
    "\n",
    "**Dataset Notes:**\n",
    "\n",
    "* Mix of photos with different genders, makeup, ages & headwear. \n",
    "* Some are photos B&W, some are color, different image resolutions.\n",
    "* Angle of head shots, expressions & lighting."
   ]
  },
  {
   "cell_type": "markdown",
   "metadata": {
    "colab_type": "text",
    "id": "iXkcrIQuN6u0"
   },
   "source": [
    "**IMPORTS**"
   ]
  },
  {
   "cell_type": "code",
   "execution_count": 0,
   "metadata": {
    "colab": {},
    "colab_type": "code",
    "id": "6XRNlFd2N6u1"
   },
   "outputs": [],
   "source": [
    "# !pip install dlib\n",
    "!pip install git+https://github.com/rcmalli/keras-vggface.git\n",
    "# !pip install imutils"
   ]
  },
  {
   "cell_type": "code",
   "execution_count": 0,
   "metadata": {
    "_cell_guid": "b1076dfc-b9ad-4769-8c92-a6c4dae69d19",
    "_uuid": "8f2839f25d086af736a60e9eeb907d3b93b6e0e5",
    "colab": {
     "base_uri": "https://localhost:8080/",
     "height": 51
    },
    "colab_type": "code",
    "id": "dw-nInivN6u6",
    "outputId": "bd272c27-ae1e-4590-e8cd-0520aded0689"
   },
   "outputs": [
    {
     "name": "stderr",
     "output_type": "stream",
     "text": [
      "Using TensorFlow backend.\n"
     ]
    },
    {
     "name": "stdout",
     "output_type": "stream",
     "text": [
      "/usr/bin/python3\n"
     ]
    }
   ],
   "source": [
    "import os\n",
    "import sys \n",
    "import cv2\n",
    "import glob\n",
    "import dlib\n",
    "import math\n",
    "import random\n",
    "import sklearn\n",
    "import imutils\n",
    "import imageio\n",
    "import itertools\n",
    "import matplotlib\n",
    "import numpy as np\n",
    "import pandas as pd\n",
    "import matplotlib.pyplot as plt\n",
    "import matplotlib.image as mpimg\n",
    "\n",
    "from random import choice, sample\n",
    "from cv2 import imread\n",
    "from tqdm import tqdm\n",
    "from pathlib import Path\n",
    "from imutils import face_utils\n",
    "from PIL import Image\n",
    "\n",
    "from IPython.display import HTML, display\n",
    "from matplotlib.pyplot import imshow\n",
    "\n",
    "from mpl_toolkits.mplot3d import Axes3D\n",
    "from mpl_toolkits.mplot3d import proj3d\n",
    "from scipy.spatial import distance\n",
    "\n",
    "import keras_vggface\n",
    "from keras_vggface.vggface import VGGFace       \n",
    "from keras_applications.imagenet_utils import _obtain_input_shape\n",
    "from collections import defaultdict\n",
    "from keras.callbacks import ModelCheckpoint, ReduceLROnPlateau\n",
    "from keras.layers import Input, Dense, GlobalMaxPool2D, GlobalAvgPool2D, Concatenate, Multiply, Dropout, Subtract, Convolution2D, ZeroPadding2D, MaxPooling2D, Flatten, Activation\n",
    "from keras.models import Model, Sequential, model_from_json, load_model\n",
    "from keras.optimizers import Adam\n",
    "from keras_vggface.utils import preprocess_input\n",
    "from keras_vggface.vggface import VGGFace\n",
    "from keras.preprocessing.image import load_img, save_img, img_to_array\n",
    "from keras.applications.imagenet_utils import preprocess_input\n",
    "from keras.preprocessing import image\n",
    "\n",
    "from sklearn import linear_model\n",
    "from sklearn.metrics import mean_squared_error, r2_score\n",
    "from skimage.measure import compare_ssim\n",
    "from sklearn.decomposition import PCA                    \n",
    "from skimage.transform import resize          \n",
    "from sklearn.model_selection import train_test_split     \n",
    "\n",
    "import xgboost as xgb\n",
    "import pickle\n",
    "\n",
    "from keras.applications.vgg16 import VGG16\n",
    "\n",
    "print(sys.executable)"
   ]
  },
  {
   "cell_type": "code",
   "execution_count": 0,
   "metadata": {
    "colab": {
     "base_uri": "https://localhost:8080/",
     "height": 122
    },
    "colab_type": "code",
    "id": "OC7Zp4KIOst-",
    "outputId": "30e98c22-392f-4bd5-82cf-00b83ff6cb4e",
    "scrolled": true
   },
   "outputs": [
    {
     "name": "stdout",
     "output_type": "stream",
     "text": [
      "Go to this URL in a browser: https://accounts.google.com/o/oauth2/auth?client_id=947318989803-6bn6qk8qdgf4n4g3pfee6491hc0brc4i.apps.googleusercontent.com&redirect_uri=urn%3Aietf%3Awg%3Aoauth%3A2.0%3Aoob&scope=email%20https%3A%2F%2Fwww.googleapis.com%2Fauth%2Fdocs.test%20https%3A%2F%2Fwww.googleapis.com%2Fauth%2Fdrive%20https%3A%2F%2Fwww.googleapis.com%2Fauth%2Fdrive.photos.readonly%20https%3A%2F%2Fwww.googleapis.com%2Fauth%2Fpeopleapi.readonly&response_type=code\n",
      "\n",
      "Enter your authorization code:\n",
      "··········\n",
      "Mounted at /content/gdrive\n"
     ]
    }
   ],
   "source": [
    "# !unzip input.zip \n",
    "\n",
    "from google.colab import drive\n",
    "drive.mount('/content/gdrive')"
   ]
  },
  {
   "cell_type": "markdown",
   "metadata": {
    "colab_type": "text",
    "id": "dAOKzs9ZN6vE"
   },
   "source": [
    "**[1] PRE-TRAINED COMPUTER VISION MODELS**"
   ]
  },
  {
   "cell_type": "code",
   "execution_count": 0,
   "metadata": {
    "colab": {},
    "colab_type": "code",
    "id": "FhuetHS4N6vI"
   },
   "outputs": [],
   "source": [
    "# # Age Detection - https://github.com/spmallick/learnopencv\n",
    "ageProto = \"/content/gdrive/My Drive/input/learnopencvcom-model-weights/age_deploy.prototxt\"\n",
    "ageModel = \"/content/gdrive/My Drive/input/learnopencvcom-model-weights/age_net.caffemodel\"\n",
    "\n",
    "# # Gender Detection - https://github.com/spmallick/learnopencv\n",
    "genderProto = \"/content/gdrive/My Drive/input/learnopencvcom-model-weights/gender_deploy.prototxt\"\n",
    "genderModel = \"/content/gdrive/My Drive/input/learnopencvcom-model-weights/gender_net.caffemodel\"\n",
    "\n",
    "# # FaceNet - https://arxiv.org/abs/1503.03832\n",
    "# # https://github.com/nyoki-mtl/keras-facenet\n",
    "facenet_model = '/content/gdrive/My Drive/input/facenetkeras/facenet_keras.h5'\n",
    "facenetModel = load_model(facenet_model)\n",
    "\n",
    "# # VGG - http://www.robots.ox.ac.uk/~vgg/data/vgg_face/\n",
    "model = VGG16()\n",
    "vgg_face_descriptor = Model(inputs=model.layers[0].input, outputs=model.layers[-2].output)\n",
    "\n",
    "# # 68 Landmarks - https://github.com/spmallick/learnopencv\n",
    "predictor_path_68 = '/content/gdrive/My Drive/input/utilities/shape_predictor_68_face_landmarks.dat'"
   ]
  },
  {
   "cell_type": "markdown",
   "metadata": {
    "colab_type": "text",
    "id": "hAEP0VW8N6vL"
   },
   "source": [
    "**[3] IMPORTING THE TRAIN & TEST DATA**"
   ]
  },
  {
   "cell_type": "code",
   "execution_count": 0,
   "metadata": {
    "colab": {},
    "colab_type": "code",
    "id": "XrKhrlLNN6vL"
   },
   "outputs": [],
   "source": [
    "# Method #1: Read files from Google Colab\n",
    "# TEST & TRAIN FILES\n",
    "train_df = pd.read_csv('/content/input/recognizing-faces-in-the-wild/train_relationships.csv')\n",
    "test_df = pd.read_csv('/content/input/recognizing-faces-in-the-wild/sample_submission.csv')\n",
    "\n",
    "# BASE PATHS FOR IMAGES\n",
    "train_img_path = Path('/content/input/recognizing-faces-in-the-wild/train/')\n",
    "test_img_path = Path('/content/input/recognizing-faces-in-the-wild/test/')"
   ]
  },
  {
   "cell_type": "markdown",
   "metadata": {
    "colab_type": "text",
    "id": "TovFHFiUN6vO"
   },
   "source": [
    "**[4] DATASET INSPECTION**"
   ]
  },
  {
   "cell_type": "code",
   "execution_count": 0,
   "metadata": {
    "colab": {
     "base_uri": "https://localhost:8080/",
     "height": 997
    },
    "colab_type": "code",
    "id": "0Ryv75QON6vP",
    "outputId": "7abc175c-db07-4433-d038-bb5c2f1f0dc6"
   },
   "outputs": [
    {
     "data": {
      "image/png": "[encoded data removed]",
      "text/plain": [
       "<Figure size 432x288 with 2 Axes>"
      ]
     },
     "metadata": {
      "tags": []
     },
     "output_type": "display_data"
    },
    {
     "data": {
      "image/png": "[encoded data removed]",
      "text/plain": [
       "<Figure size 432x288 with 2 Axes>"
      ]
     },
     "metadata": {
      "tags": []
     },
     "output_type": "display_data"
    },
    {
     "data": {
      "image/png": "[encoded data removed]",
      "text/plain": [
       "<Figure size 432x288 with 2 Axes>"
      ]
     },
     "metadata": {
      "tags": []
     },
     "output_type": "display_data"
    },
    {
     "data": {
      "image/png": "[encoded data removed]",
      "text/plain": [
       "<Figure size 432x288 with 2 Axes>"
      ]
     },
     "metadata": {
      "tags": []
     },
     "output_type": "display_data"
    }
   ],
   "source": [
    "def inspect_pair(index):\n",
    "\n",
    "    img_1 = mpimg.imread( test_img_path / test_df.loc[index, 'img_pair'].split('-')[0] )\n",
    "    img_2 = mpimg.imread( test_img_path / test_df.loc[index, 'img_pair'].split('-')[1] )\n",
    "\n",
    "    fig = plt.figure()\n",
    "    fig.suptitle('Are they related?', fontsize=16)\n",
    "    a = fig.add_subplot(1, 2, 1)\n",
    "    imgplot = plt.imshow(img_1)\n",
    "    a.set_title('Person 1 - ' + test_df.loc[index, 'img_pair'].split('-')[0])\n",
    "    a = fig.add_subplot(1, 2, 2)\n",
    "    imgplot = plt.imshow(img_2)\n",
    "    imgplot.set_clim(0.0, 0.7)\n",
    "    a.set_title('Person 2 - ' + test_df.loc[index, 'img_pair'].split('-')[1])\n",
    "    \n",
    "inspect_pair(1) \n",
    "inspect_pair(2) # Celebrities.\n",
    "inspect_pair(3) # Same Background, probably related.  1\n",
    "inspect_pair(4) "
   ]
  },
  {
   "cell_type": "code",
   "execution_count": 0,
   "metadata": {
    "colab": {},
    "colab_type": "code",
    "id": "aoce3Q5kN6vU"
   },
   "outputs": [],
   "source": [
    "# def inspect_individual(index):\n",
    "#     # loop through all photos of that individual in the training data\n",
    "#     print(index)\n",
    "#     print(train_img_path)\n",
    "#     print(train_df.loc[index, 'p1'])\n",
    "    \n",
    "#     img_list = os.listdir(train_img_path / train_df.loc[index, 'p1'])\n",
    "    \n",
    "#     print(\"this individual has \", len(img_list), \" photos\")\n",
    "    \n",
    "#     for img in img_list:\n",
    "#         print(img)\n",
    "#         img = mpimg.imread( train_img_path / train_df.loc[index, 'p1'] / img )\n",
    "#         plt.imshow(img)\n",
    "\n",
    "# inspect_individual(1)"
   ]
  },
  {
   "cell_type": "code",
   "execution_count": 0,
   "metadata": {
    "colab": {},
    "colab_type": "code",
    "id": "83oZnwulN6vX"
   },
   "outputs": [],
   "source": [
    "# def inspect_family(id):\n",
    "#     print('Family ID: ', id)\n",
    "#     print('Family Members: ')\n",
    "    \n",
    "# inspect_family('F0')"
   ]
  },
  {
   "cell_type": "code",
   "execution_count": 0,
   "metadata": {
    "colab": {},
    "colab_type": "code",
    "id": "V4ozDmaKN6va"
   },
   "outputs": [],
   "source": [
    "def get_profile(individual):\n",
    "    if len(individual.split('/')) == 2: # ORIGINAL DATASET\n",
    "        if len(train_df[train_df['p1'] == individual]['p1_photo_count'].head(1).values) == 0:\n",
    "            return {\n",
    "                'photo_list': train_df[train_df['p2'] == individual]['p2_photo_list'].head(1).values[0],\n",
    "                'photo_count': train_df[train_df['p2'] == individual]['p2_photo_count'].head(1).values[0]\n",
    "            }\n",
    "        else:\n",
    "            return {                                                        # it's not stupid if it works\n",
    "                'photo_list': train_df[train_df['p1'] == individual]['p1_photo_list'].head(1).values[0],\n",
    "                'photo_count': train_df[train_df['p1'] == individual]['p1_photo_count'].head(1).values[0]\n",
    "            }\n",
    "    else:                              # 3RD PARTY DATASET\n",
    "        return {\n",
    "            'photo_list': third_party[third_party['p1'] == individual]['p1_photo_list'].head(1).values[0],\n",
    "            'photo_count': third_party[third_party['p1'] == individual]['p1_photo_count'].head(1).values[0]\n",
    "        }"
   ]
  },
  {
   "cell_type": "markdown",
   "metadata": {
    "colab_type": "text",
    "id": "73lLiRHTN6vd"
   },
   "source": [
    "**[5] REFORMATTING TRAINING DATASET**"
   ]
  },
  {
   "cell_type": "code",
   "execution_count": 0,
   "metadata": {
    "_cell_guid": "79c7e3d0-c299-4dcb-8224-4455121ee9b0",
    "_uuid": "d629ff2d2480ee46fbb7e2d37f6b5fab8052498a",
    "colab": {
     "base_uri": "https://localhost:8080/",
     "height": 34
    },
    "colab_type": "code",
    "id": "HbHv8pxEN6vd",
    "outputId": "d09d1c70-bc86-486b-d420-a80a9674db7d"
   },
   "outputs": [
    {
     "name": "stdout",
     "output_type": "stream",
     "text": [
      "3598  rows of confirmed kinship for model training\n"
     ]
    }
   ],
   "source": [
    "# SETUP SOME COLUMNS TO USE LATER\n",
    "train_df['is_related'] = 1\n",
    "train_df['p1_photo_count'] = 0\n",
    "train_df['p2_photo_count'] = 0\n",
    "train_df['p1_photo_list'] = ''\n",
    "train_df['p2_photo_list'] = ''\n",
    "train_df['combo'] = ''\n",
    "\n",
    "print(train_df.shape[0], ' rows of confirmed kinship for model training')\n",
    "\n",
    "# LOOP THROUGH EACH KNOWN KINSHIP\n",
    "for i in range(0, train_df.shape[0]) :\n",
    "    p1_path = '/content/input//recognizing-faces-in-the-wild/train/' + train_df.loc[i, 'p1'] + \"/\"\n",
    "    p2_path = '/content/input/recognizing-faces-in-the-wild/train/' + train_df.loc[i, 'p2'] + \"/\"\n",
    "\n",
    "    # CHECK IF DIRECTORY EXISTS (sometimes it's not present, unless I've done something wrong)\n",
    "    if os.path.isdir(p1_path) & os.path.isdir(p2_path):\n",
    "        train_df.loc[i, 'p1_photo_count'] = len(os.listdir(train_img_path / train_df.loc[i, 'p1'] ))\n",
    "        train_df.loc[i, 'p2_photo_count'] = len(os.listdir(train_img_path / train_df.loc[i, 'p2'] ))\n",
    "        train_df.at[i, 'p1_photo_list'] = os.listdir(train_img_path / train_df.loc[i, 'p1'] )\n",
    "        train_df.at[i, 'p2_photo_list'] = os.listdir(train_img_path / train_df.loc[i, 'p2'] )\n",
    "        train_df.loc[i, 'combo'] = train_df.loc[i, 'p1'] + '-' + train_df.loc[i, 'p2']\n",
    "\n",
    "train_columns = list(train_df.columns.values)"
   ]
  },
  {
   "cell_type": "code",
   "execution_count": 0,
   "metadata": {
    "colab": {
     "base_uri": "https://localhost:8080/",
     "height": 289
    },
    "colab_type": "code",
    "id": "t4jI4M3-N6vh",
    "outputId": "993a0788-b49e-48cc-9279-ed46ba9cbf7f"
   },
   "outputs": [
    {
     "data": {
      "text/html": [
       "<div>\n",
       "<style scoped>\n",
       "    .dataframe tbody tr th:only-of-type {\n",
       "        vertical-align: middle;\n",
       "    }\n",
       "\n",
       "    .dataframe tbody tr th {\n",
       "        vertical-align: top;\n",
       "    }\n",
       "\n",
       "    .dataframe thead th {\n",
       "        text-align: right;\n",
       "    }\n",
       "</style>\n",
       "<table border=\"1\" class=\"dataframe\">\n",
       "  <thead>\n",
       "    <tr style=\"text-align: right;\">\n",
       "      <th></th>\n",
       "      <th>p1</th>\n",
       "      <th>p2</th>\n",
       "      <th>is_related</th>\n",
       "      <th>p1_photo_count</th>\n",
       "      <th>p2_photo_count</th>\n",
       "      <th>p1_photo_list</th>\n",
       "      <th>p2_photo_list</th>\n",
       "      <th>combo</th>\n",
       "    </tr>\n",
       "  </thead>\n",
       "  <tbody>\n",
       "    <tr>\n",
       "      <th>0</th>\n",
       "      <td>F0002/MID1</td>\n",
       "      <td>F0002/MID3</td>\n",
       "      <td>1</td>\n",
       "      <td>10</td>\n",
       "      <td>8</td>\n",
       "      <td>[P00016_face2.jpg, P00014_face2.jpg, P00010_fa...</td>\n",
       "      <td>[P00011_face3.jpg, P00015_face1.jpg, P00010_fa...</td>\n",
       "      <td>F0002/MID1-F0002/MID3</td>\n",
       "    </tr>\n",
       "    <tr>\n",
       "      <th>1</th>\n",
       "      <td>F0002/MID2</td>\n",
       "      <td>F0002/MID3</td>\n",
       "      <td>1</td>\n",
       "      <td>9</td>\n",
       "      <td>8</td>\n",
       "      <td>[P00012_face1.jpg, P00013_face1.jpg, P00018_fa...</td>\n",
       "      <td>[P00011_face3.jpg, P00015_face1.jpg, P00010_fa...</td>\n",
       "      <td>F0002/MID2-F0002/MID3</td>\n",
       "    </tr>\n",
       "    <tr>\n",
       "      <th>2</th>\n",
       "      <td>F0005/MID1</td>\n",
       "      <td>F0005/MID2</td>\n",
       "      <td>1</td>\n",
       "      <td>9</td>\n",
       "      <td>8</td>\n",
       "      <td>[P00059_face2.jpg, P00061_face3.jpg, P00056_fa...</td>\n",
       "      <td>[P00059_face3.jpg, P00058_face4.jpg, P00060_fa...</td>\n",
       "      <td>F0005/MID1-F0005/MID2</td>\n",
       "    </tr>\n",
       "    <tr>\n",
       "      <th>3</th>\n",
       "      <td>F0005/MID3</td>\n",
       "      <td>F0005/MID2</td>\n",
       "      <td>1</td>\n",
       "      <td>6</td>\n",
       "      <td>8</td>\n",
       "      <td>[P00057_face1.jpg, P00059_face1.jpg, P00061_fa...</td>\n",
       "      <td>[P00059_face3.jpg, P00058_face4.jpg, P00060_fa...</td>\n",
       "      <td>F0005/MID3-F0005/MID2</td>\n",
       "    </tr>\n",
       "    <tr>\n",
       "      <th>4</th>\n",
       "      <td>F0009/MID1</td>\n",
       "      <td>F0009/MID4</td>\n",
       "      <td>1</td>\n",
       "      <td>41</td>\n",
       "      <td>20</td>\n",
       "      <td>[P11736_face2.jpg, P11714_face1.jpg, P10588_fa...</td>\n",
       "      <td>[P10588_face4.jpg, P11737_face1.jpg, P11726_fa...</td>\n",
       "      <td>F0009/MID1-F0009/MID4</td>\n",
       "    </tr>\n",
       "  </tbody>\n",
       "</table>\n",
       "</div>"
      ],
      "text/plain": [
       "           p1  ...                  combo\n",
       "0  F0002/MID1  ...  F0002/MID1-F0002/MID3\n",
       "1  F0002/MID2  ...  F0002/MID2-F0002/MID3\n",
       "2  F0005/MID1  ...  F0005/MID1-F0005/MID2\n",
       "3  F0005/MID3  ...  F0005/MID3-F0005/MID2\n",
       "4  F0009/MID1  ...  F0009/MID1-F0009/MID4\n",
       "\n",
       "[5 rows x 8 columns]"
      ]
     },
     "execution_count": 16,
     "metadata": {
      "tags": []
     },
     "output_type": "execute_result"
    }
   ],
   "source": [
    "train_df.head(5)"
   ]
  },
  {
   "cell_type": "markdown",
   "metadata": {
    "colab_type": "text",
    "id": "m-2gXcheN6vl"
   },
   "source": [
    "**[6] ADD 3RD PARTY DATASET TO MAKE THIS *MORE WILD***"
   ]
  },
  {
   "cell_type": "code",
   "execution_count": 0,
   "metadata": {
    "colab": {
     "base_uri": "https://localhost:8080/",
     "height": 68
    },
    "colab_type": "code",
    "id": "TP9a1pefN6vm",
    "outputId": "1d921e7c-9942-4065-8e1b-c60d4b181e4a"
   },
   "outputs": [
    {
     "name": "stdout",
     "output_type": "stream",
     "text": [
      "1056  photos in the given dataset\n",
      "54  individuals from 3rd party sources to be added\n",
      "(54, 8)\n"
     ]
    }
   ],
   "source": [
    "new_data = {}\n",
    "individual_list = []\n",
    "third_party = pd.DataFrame(columns = train_columns)\n",
    "\n",
    "img_list_3rd = os.listdir('/content/input/faces-data-new/images/')\n",
    "\n",
    "print(len(img_list_3rd), ' photos in the given dataset')\n",
    "\n",
    "for i in range(0, len(img_list_3rd)):\n",
    "    if img_list_3rd[i].split('.')[0] not in individual_list:\n",
    "        individual_list.append(img_list_3rd[i].split('.')[0]) \n",
    "        new_data[img_list_3rd[i].split('.')[0]] = { \n",
    "            'photo_count': 1, \n",
    "            'photo_list': [ img_list_3rd[i] ] \n",
    "        }\n",
    "    else:\n",
    "        files = new_data[img_list_3rd[i].split('.')[0]]['photo_list']\n",
    "        files.append(img_list_3rd[i])\n",
    "        new_data[img_list_3rd[i].split('.')[0]] = { \n",
    "            'photo_count': new_data[img_list_3rd[i].split('.')[0]]['photo_count'] + 1, \n",
    "            'photo_list': files\n",
    "        }\n",
    "\n",
    "print(len(individual_list), ' individuals from 3rd party sources to be added')\n",
    "\n",
    "for i in range(0, len(individual_list)):\n",
    "    third_party.loc[i, 'p1'] = individual_list[i]\n",
    "    third_party.loc[i, 'is_related'] = 0\n",
    "    third_party.loc[i, 'p1_photo_count'] = new_data[individual_list[i]]['photo_count']\n",
    "    third_party.loc[i, 'p1_photo_list'] = new_data[individual_list[i]]['photo_list']\n",
    "        \n",
    "print(third_party.shape)"
   ]
  },
  {
   "cell_type": "markdown",
   "metadata": {
    "colab_type": "text",
    "id": "YwSyCTw7N6vp"
   },
   "source": [
    "**[7] GENERATING ALL POSSIBLE COMBINATIONS OF INDIVIDUALS**"
   ]
  },
  {
   "cell_type": "code",
   "execution_count": 0,
   "metadata": {
    "colab": {
     "base_uri": "https://localhost:8080/",
     "height": 119
    },
    "colab_type": "code",
    "id": "XIBETP9kN6vr",
    "outputId": "e96eeaeb-498c-4aa7-f9ef-edd38323c9f4"
   },
   "outputs": [
    {
     "name": "stderr",
     "output_type": "stream",
     "text": [
      "  0%|          | 2/3598 [00:00<04:37, 12.97it/s]"
     ]
    },
    {
     "name": "stdout",
     "output_type": "stream",
     "text": [
      "2412  individuals in training dataset\n",
      "54  individuals from the 3rd party data\n",
      "2466  total individuals in the new training data\n",
      "3039345  possible 2-way combinations of individuals\n"
     ]
    },
    {
     "name": "stderr",
     "output_type": "stream",
     "text": [
      "100%|██████████| 3598/3598 [04:39<00:00, 12.86it/s]"
     ]
    },
    {
     "name": "stdout",
     "output_type": "stream",
     "text": [
      "3037553  possible 2-way combinations of individuals after removing duplicates/related people\n"
     ]
    },
    {
     "name": "stderr",
     "output_type": "stream",
     "text": [
      "\n"
     ]
    }
   ],
   "source": [
    "# GET A LIST OF ALL INDIVIDUALS IN THE TRAINING DATA\n",
    "train_individuals = list(set(list(train_df['p1']) + list(train_df['p2'])))\n",
    "print(len(train_individuals), ' individuals in training dataset')\n",
    "print(len(individual_list), ' individuals from the 3rd party data')\n",
    "all_individuals = train_individuals + individual_list\n",
    "print(len(all_individuals), ' total individuals in the new training data')\n",
    "\n",
    "# GENERATE ALL POSSIBLE COMBINATIONS OF INDIVIDUALS\n",
    "combinations = list(itertools.combinations(train_individuals + individual_list, 2))\n",
    "print(len(combinations), ' possible 2-way combinations of individuals')\n",
    "\n",
    "# CLEAR OUT ANY RELATED COMBINATIONS\n",
    "for i in tqdm(range(0, train_df.shape[0])):\n",
    "    combo = ( train_df.loc[i, 'p1'], train_df.loc[i, 'p2'] )\n",
    "    if combo in combinations:\n",
    "        combinations.remove(combo)\n",
    "print(len(combinations), ' possible 2-way combinations of individuals after removing duplicates/related people')"
   ]
  },
  {
   "cell_type": "markdown",
   "metadata": {
    "colab_type": "text",
    "id": "AMKdVFfGN6vu"
   },
   "source": [
    "**[8] GENERATING NEW UNRELATED ROWS FOR TRAINING DATASET**"
   ]
  },
  {
   "cell_type": "code",
   "execution_count": 0,
   "metadata": {
    "colab": {
     "base_uri": "https://localhost:8080/",
     "height": 34
    },
    "colab_type": "code",
    "id": "bzWzX2dUN6vv",
    "outputId": "49f9d650-7d9a-4a51-92f8-94fb8d7b42fe"
   },
   "outputs": [
    {
     "name": "stdout",
     "output_type": "stream",
     "text": [
      "6402  new rows to be created for training dataset\n"
     ]
    }
   ],
   "source": [
    "goal_n = 10000  # 10k this gives us a 64/36-ish ratio for our target of 'is_related'\n",
    "\n",
    "print(goal_n - train_df.shape[0], ' new rows to be created for training dataset')\n",
    "\n",
    "# generating a list of random numbers for indexes to grab from the combinations list\n",
    "random_list = []\n",
    "for i in range(0, goal_n - train_df.shape[0]): # for each of the number of rows I need to add\n",
    "    x = random.randint(0, len(combinations))   # generate a random number between 0 and combinations length\n",
    "    random_list.append(x)\n",
    "\n",
    "rows_list = []\n",
    "\n",
    "for i in range(0, goal_n - train_df.shape[0]):\n",
    "\n",
    "    combo = combinations[random_list[i]][0] + '-' + combinations[random_list[i]][1]\n",
    "    \n",
    "    p1 = get_profile(combo.split('-')[0])\n",
    "    p2 = get_profile(combo.split('-')[1])\n",
    "\n",
    "    new_row = {\n",
    "        'p1': combinations[random_list[i]][0],\n",
    "        'p2': combinations[random_list[i]][1],\n",
    "        'is_related': 0, \n",
    "        'p1_photo_count': p1['photo_count'], \n",
    "        'p2_photo_count': p2['photo_count'], \n",
    "        'p1_photo_list': p1['photo_list'], \n",
    "        'p2_photo_list': p2['photo_list'],  \n",
    "        'combo': combo\n",
    "    }\n",
    "    \n",
    "    rows_list.append(new_row)\n",
    "\n",
    "new_rows = pd.DataFrame(rows_list)"
   ]
  },
  {
   "cell_type": "markdown",
   "metadata": {
    "colab_type": "text",
    "id": "MPOgO2ntN6vz"
   },
   "source": [
    "**[9] MASH RELATED AND UNRELATED TOGETHER**"
   ]
  },
  {
   "cell_type": "code",
   "execution_count": 0,
   "metadata": {
    "colab": {
     "base_uri": "https://localhost:8080/",
     "height": 476
    },
    "colab_type": "code",
    "id": "V2laDwgJN6v0",
    "outputId": "18cf7eb9-14cb-44e4-84d8-bc290968490d"
   },
   "outputs": [
    {
     "name": "stdout",
     "output_type": "stream",
     "text": [
      "10000  rows after generating new, unrelated pairs of people\n",
      "the sum of the is_related column is:  3598\n",
      "target ratio is:  0.3598\n"
     ]
    },
    {
     "name": "stderr",
     "output_type": "stream",
     "text": [
      "/usr/local/lib/python3.6/dist-packages/ipykernel_launcher.py:2: FutureWarning: Sorting because non-concatenation axis is not aligned. A future version\n",
      "of pandas will change to not sort by default.\n",
      "\n",
      "To accept the future behavior, pass 'sort=False'.\n",
      "\n",
      "To retain the current behavior and silence the warning, pass 'sort=True'.\n",
      "\n",
      "  \n"
     ]
    },
    {
     "data": {
      "text/html": [
       "<div>\n",
       "<style scoped>\n",
       "    .dataframe tbody tr th:only-of-type {\n",
       "        vertical-align: middle;\n",
       "    }\n",
       "\n",
       "    .dataframe tbody tr th {\n",
       "        vertical-align: top;\n",
       "    }\n",
       "\n",
       "    .dataframe thead th {\n",
       "        text-align: right;\n",
       "    }\n",
       "</style>\n",
       "<table border=\"1\" class=\"dataframe\">\n",
       "  <thead>\n",
       "    <tr style=\"text-align: right;\">\n",
       "      <th></th>\n",
       "      <th>combo</th>\n",
       "      <th>is_related</th>\n",
       "      <th>p1</th>\n",
       "      <th>p1_photo_count</th>\n",
       "      <th>p1_photo_list</th>\n",
       "      <th>p2</th>\n",
       "      <th>p2_photo_count</th>\n",
       "      <th>p2_photo_list</th>\n",
       "    </tr>\n",
       "  </thead>\n",
       "  <tbody>\n",
       "    <tr>\n",
       "      <th>0</th>\n",
       "      <td>F0443/MID1-F0064/MID1</td>\n",
       "      <td>0</td>\n",
       "      <td>F0443/MID1</td>\n",
       "      <td>10</td>\n",
       "      <td>[P04673_face1.jpg, P04676_face2.jpg, P04678_fa...</td>\n",
       "      <td>F0064/MID1</td>\n",
       "      <td>22</td>\n",
       "      <td>[P00651_face1.jpg, P00652_face2.jpg, P00647_fa...</td>\n",
       "    </tr>\n",
       "    <tr>\n",
       "      <th>1</th>\n",
       "      <td>F0984/MID2-F0415/MID1</td>\n",
       "      <td>0</td>\n",
       "      <td>F0984/MID2</td>\n",
       "      <td>7</td>\n",
       "      <td>[P10371_face2.jpg, P10368_face3.jpg, P10372_fa...</td>\n",
       "      <td>F0415/MID1</td>\n",
       "      <td>7</td>\n",
       "      <td>[P04351_face1.jpg, P04346_face1.jpg, P04349_fa...</td>\n",
       "    </tr>\n",
       "    <tr>\n",
       "      <th>2</th>\n",
       "      <td>F0770/MID1-F0745/MID4</td>\n",
       "      <td>0</td>\n",
       "      <td>F0770/MID1</td>\n",
       "      <td>8</td>\n",
       "      <td>[P08129_face3.jpg, P08135_face2.jpg, P08134_fa...</td>\n",
       "      <td>F0745/MID4</td>\n",
       "      <td>3</td>\n",
       "      <td>[P07809_face1.jpg, P07810_face1.jpg, P07805_fa...</td>\n",
       "    </tr>\n",
       "    <tr>\n",
       "      <th>3</th>\n",
       "      <td>F0805/MID3-F0601/MID39</td>\n",
       "      <td>0</td>\n",
       "      <td>F0805/MID3</td>\n",
       "      <td>2</td>\n",
       "      <td>[P08521_face1.jpg, P08529_face4.jpg]</td>\n",
       "      <td>F0601/MID39</td>\n",
       "      <td>3</td>\n",
       "      <td>[P12080_face1.jpg, P12081_face2.jpg, P12079_fa...</td>\n",
       "    </tr>\n",
       "    <tr>\n",
       "      <th>4</th>\n",
       "      <td>F0659/MID2-F0332/MID2</td>\n",
       "      <td>0</td>\n",
       "      <td>F0659/MID2</td>\n",
       "      <td>3</td>\n",
       "      <td>[P06907_face1.jpg, P06902_face2.jpg, P06906_fa...</td>\n",
       "      <td>F0332/MID2</td>\n",
       "      <td>5</td>\n",
       "      <td>[P03518_face2.jpg, P03512_face2.jpg, P03517_fa...</td>\n",
       "    </tr>\n",
       "  </tbody>\n",
       "</table>\n",
       "</div>"
      ],
      "text/plain": [
       "                    combo  ...                                      p2_photo_list\n",
       "0   F0443/MID1-F0064/MID1  ...  [P00651_face1.jpg, P00652_face2.jpg, P00647_fa...\n",
       "1   F0984/MID2-F0415/MID1  ...  [P04351_face1.jpg, P04346_face1.jpg, P04349_fa...\n",
       "2   F0770/MID1-F0745/MID4  ...  [P07809_face1.jpg, P07810_face1.jpg, P07805_fa...\n",
       "3  F0805/MID3-F0601/MID39  ...  [P12080_face1.jpg, P12081_face2.jpg, P12079_fa...\n",
       "4   F0659/MID2-F0332/MID2  ...  [P03518_face2.jpg, P03512_face2.jpg, P03517_fa...\n",
       "\n",
       "[5 rows x 8 columns]"
      ]
     },
     "execution_count": 16,
     "metadata": {
      "tags": []
     },
     "output_type": "execute_result"
    }
   ],
   "source": [
    "if train_df.shape[0] <= goal_n:\n",
    "    train_df = pd.concat( [ train_df, new_rows ], ignore_index=True )\n",
    "\n",
    "print(train_df.shape[0],' rows after generating new, unrelated pairs of people')\n",
    "print('the sum of the is_related column is: ', sum(list(train_df['is_related'])))\n",
    "print('target ratio is: ', sum(list(train_df['is_related'])) /  train_df.shape[0])\n",
    "\n",
    "train_df = train_df[train_df.p1_photo_count != 0]\n",
    "train_df = train_df[train_df.p2_photo_count != 0]\n",
    "train_df = train_df.sample(frac = 1).reset_index(drop = True) # random sort training data (easier to debug)\n",
    "\n",
    "train_df.head(5)"
   ]
  },
  {
   "cell_type": "markdown",
   "metadata": {
    "colab_type": "text",
    "id": "bn0WW3uMN6v2"
   },
   "source": [
    "**[10] FEATURE CREATION FUNCTIONS**"
   ]
  },
  {
   "cell_type": "code",
   "execution_count": 0,
   "metadata": {
    "colab": {},
    "colab_type": "code",
    "id": "WTHdqRgEN6v3"
   },
   "outputs": [],
   "source": [
    "def get_age(path):\n",
    "    # https://github.com/spmallick/learnopencv\n",
    "    # This returns the index of the age bucket based on a pre-trained model by Satya Mallick\n",
    "    \n",
    "    cv_face = cv2.imread(path, cv2.COLOR_BGR2GRAY)\n",
    "    ageNet = cv2.dnn.readNet(ageModel, ageProto)\n",
    "    MODEL_MEAN_VALUES = (78.4263377603, 87.7689143744, 114.895847746) # why? where tf are these from?\n",
    "    #             1,          2,         3,          4,           5,            6,          7,            8\n",
    "    ageList = ['(0 - 2)', '(4 - 6)', '(8 - 12)', '(15 - 20)', '(25 - 32)', '(38 - 43)', '(48 - 53)', '(60 - 100)']\n",
    "    blob = cv2.dnn.blobFromImage(cv_face, 1, (227, 227), MODEL_MEAN_VALUES, swapRB=False)\n",
    "    ageNet.setInput(blob)\n",
    "    agePreds = ageNet.forward()\n",
    "    age = ageList[agePreds[0].argmax()]\n",
    "    return ageList.index(age) + 1"
   ]
  },
  {
   "cell_type": "code",
   "execution_count": 0,
   "metadata": {
    "colab": {},
    "colab_type": "code",
    "id": "A7FqJBGMN6v5"
   },
   "outputs": [],
   "source": [
    "def get_gender(path):\n",
    "    # https://github.com/spmallick/learnopencv\n",
    "    # This returns the % male based on a pre-trained model by Satya Mallick\n",
    "    \n",
    "    cv_face = cv2.imread(path, cv2.COLOR_BGR2GRAY)\n",
    "    genderNet = cv2.dnn.readNet(genderModel, genderProto)\n",
    "\n",
    "    MODEL_MEAN_VALUES = (78.4263377603, 87.7689143744, 114.895847746) # why? where tf are these from?\n",
    "    genderList = ['Male', 'Female']\n",
    "\n",
    "    blob = cv2.dnn.blobFromImage(cv_face, 1, (227, 227), MODEL_MEAN_VALUES, swapRB=False)\n",
    "    genderNet.setInput(blob)\n",
    "    genderPreds = genderNet.forward()\n",
    "    gender = genderList[genderPreds[0].argmax()]\n",
    "    return genderPreds[0]"
   ]
  },
  {
   "cell_type": "code",
   "execution_count": 0,
   "metadata": {
    "colab": {},
    "colab_type": "code",
    "id": "J_myNNczN6v7"
   },
   "outputs": [],
   "source": [
    "def get_pairdiff(path_1, path_2):\n",
    "    # https://www.pyimagesearch.com/2017/06/19/image-difference-with-opencv-and-python/\n",
    "    # This is straight up just the % difference between the two images in gayscale\n",
    "\n",
    "    imageA = cv2.imread(path_1)\n",
    "    imageB = cv2.imread(path_2)\n",
    "\n",
    "    grayA = cv2.resize(cv2.cvtColor(imageA, cv2.COLOR_BGR2GRAY),(277,277))\n",
    "    grayB = cv2.resize(cv2.cvtColor(imageB, cv2.COLOR_BGR2GRAY),(277,277))\n",
    "    \n",
    "    # Structural Similarity Index (SSIM)\n",
    "    (score, diff) = compare_ssim(grayA, grayB, full=True)\n",
    "    diff = (diff * 255).astype(\"uint8\")\n",
    "    return score"
   ]
  },
  {
   "cell_type": "code",
   "execution_count": 0,
   "metadata": {
    "colab": {},
    "colab_type": "code",
    "id": "KTzS4LF-N6v9"
   },
   "outputs": [],
   "source": [
    "def get_imqual(path):\n",
    "    # Simply the size of the image.\n",
    "    \n",
    "    img = cv2.imread(path, cv2.COLOR_BGR2GRAY)\n",
    "    return img.size"
   ]
  },
  {
   "cell_type": "code",
   "execution_count": 0,
   "metadata": {
    "colab": {},
    "colab_type": "code",
    "id": "CXARiOS0N6wB"
   },
   "outputs": [],
   "source": [
    "def get_68_points(path):\n",
    "    print(path)\n",
    "\n",
    "    detector = dlib.get_frontal_face_detector()\n",
    "    predictor = dlib.shape_predictor(predictor_path_68)\n",
    "    image = dlib.load_rgb_image(path)\n",
    "    \n",
    "    dets = detector(image, 1)\n",
    "          \n",
    "    for k, d in enumerate(dets):\n",
    "\n",
    "        shape = predictor(image, d)\n",
    "        shape = face_utils.shape_to_np(shape)\n",
    "\n",
    "        for (x, y) in shape:\n",
    "            cv2.circle(image, (x, y), 2, (0, 255, 0), -1)\n",
    "\n",
    "        return shape"
   ]
  },
  {
   "cell_type": "code",
   "execution_count": 0,
   "metadata": {
    "colab": {},
    "colab_type": "code",
    "id": "VC5VYSrkN6wH"
   },
   "outputs": [],
   "source": [
    "def prewhiten(x):\n",
    "    if x.ndim == 4:\n",
    "        axis = (1, 2, 3)\n",
    "        size = x[0].size\n",
    "    elif x.ndim == 3:\n",
    "        axis = (0, 1, 2)\n",
    "        size = x.size\n",
    "    else:\n",
    "        raise ValueError('Dimension should be 3 or 4')\n",
    "\n",
    "    mean = np.mean(x, axis=axis, keepdims=True)\n",
    "    std = np.std(x, axis=axis, keepdims=True)\n",
    "    std_adj = np.maximum(std, 1.0/np.sqrt(size))\n",
    "    y = (x - mean) / std_adj\n",
    "    return y\n",
    "\n",
    "def l2_normalize(x, axis=-1, epsilon=1e-10):\n",
    "    output = x / np.sqrt(np.maximum(np.sum(np.square(x), axis=axis, keepdims=True), epsilon))\n",
    "    return output\n",
    "\n",
    "def load_and_align_images(filepaths, margin,image_size = 160):\n",
    "    aligned_images = []\n",
    "    for filepath in filepaths:\n",
    "        img = imread(filepath)\n",
    "        aligned = resize(img, (image_size, image_size), mode='reflect')\n",
    "        aligned_images.append(aligned)\n",
    "            \n",
    "    return np.array(aligned_images)\n",
    "\n",
    "def calc_embs(filepaths, margin = 10, batch_size = 512):\n",
    "    pd = []\n",
    "    for start in range(0, len(filepaths)):\n",
    "        aligned_images = prewhiten(load_and_align_images(filepaths[start:start+batch_size], margin))\n",
    "        pd.append(facenetModel.predict_on_batch(aligned_images)) # ON BATCH! COOL!\n",
    "    embs = l2_normalize(np.concatenate(pd))\n",
    "\n",
    "    return embs"
   ]
  },
  {
   "cell_type": "code",
   "execution_count": 0,
   "metadata": {
    "colab": {},
    "colab_type": "code",
    "id": "16WK2lYRN6wL"
   },
   "outputs": [],
   "source": [
    "def get_facenet_diff(p1_path, p2_path):\n",
    "\n",
    "    p1_emb = calc_embs([p1_path])\n",
    "    p2_emb = calc_embs([p2_path])\n",
    "\n",
    "    pair_embs = [p1_emb, p2_emb]\n",
    "    \n",
    "    img2idx = dict()                                                   # Khoi Nguyen\n",
    "    for idx, img in enumerate([p1_path, p2_path]):                     # Khoi Nguyen\n",
    "        img2idx[img] = idx                                             # Khoi Nguyen\n",
    "\n",
    "    imgs = [pair_embs[img2idx[img]] for img in [p1_path, p2_path]]     # Khoi Nguyen\n",
    "    emb_euc_dist = distance.euclidean(*imgs)                           # Khoi Nguyen\n",
    "\n",
    "    return emb_euc_dist"
   ]
  },
  {
   "cell_type": "code",
   "execution_count": 0,
   "metadata": {
    "colab": {},
    "colab_type": "code",
    "id": "9cuKrx4iN6wN"
   },
   "outputs": [],
   "source": [
    "# VGG Model\n",
    "# https://sefiks.com/2018/08/06/deep-face-recognition-with-keras/\n",
    "\n",
    "def preprocess_image(image_path):\n",
    "    img = load_img(image_path, target_size=(224, 224))\n",
    "    img = img_to_array(img)\n",
    "    img = np.expand_dims(img, axis=0)\n",
    "    img = preprocess_input(img)\n",
    "    return img\n",
    "\n",
    "def findCosineSimilarity(source_representation, test_representation):\n",
    "    a = np.matmul(np.transpose(source_representation), test_representation)\n",
    "    b = np.sum(np.multiply(source_representation, source_representation))\n",
    "    c = np.sum(np.multiply(test_representation, test_representation))\n",
    "    return 1 - (a / (np.sqrt(b) * np.sqrt(c)))\n",
    " \n",
    "def findEuclideanDistance(source_representation, test_representation):\n",
    "    euclidean_distance = source_representation - test_representation\n",
    "    euclidean_distance = np.sum(np.multiply(euclidean_distance, euclidean_distance))\n",
    "    euclidean_distance = np.sqrt(euclidean_distance)\n",
    "    return euclidean_distance\n",
    "\n",
    "# epsilon = 0.40 # cosine similarity     - these are the cutoff values if we're looking to\n",
    "# epsilon = 120  # euclidean distance    - verify that these two images are the same person\n",
    " \n",
    "def get_vgg_diff(img1, img2):\n",
    "    img1_representation = vgg_face_descriptor.predict(preprocess_image(img1))[0,:]\n",
    "    img2_representation = vgg_face_descriptor.predict(preprocess_image(img2))[0,:]\n",
    "    \n",
    "    cosine_similarity = findCosineSimilarity(img1_representation, img2_representation)\n",
    "    euclidean_distance = findEuclideanDistance(img1_representation, img2_representation)\n",
    "\n",
    "    return { \n",
    "        'vgg_cosine': cosine_similarity,\n",
    "        'vgg_euclid': euclidean_distance\n",
    "    }"
   ]
  },
  {
   "cell_type": "code",
   "execution_count": 0,
   "metadata": {
    "colab": {},
    "colab_type": "code",
    "id": "tW5k-1IGN6wP"
   },
   "outputs": [],
   "source": [
    "def get_source(photo, comboID):\n",
    "    if photo[0:1] == 'P':\n",
    "        return '/content/input/recognizing-faces-in-the-wild/train/' + comboID + '/'\n",
    "    if photo[0:4] == 'face':\n",
    "        return '/content/input/recognizing-faces-in-the-wild/test/'\n",
    "    else:\n",
    "        return '/content/input//faces-data-new/images/'"
   ]
  },
  {
   "cell_type": "code",
   "execution_count": 0,
   "metadata": {
    "colab": {},
    "colab_type": "code",
    "id": "dtyn0rtpN6wT"
   },
   "outputs": [],
   "source": [
    "def get_best_photo(photo_list, comboID):\n",
    "    \n",
    "    score_list = []\n",
    "    \n",
    "    for photo in photo_list:\n",
    "\n",
    "        source = get_source(photo, comboID)\n",
    "\n",
    "        path = source + photo\n",
    "        \n",
    "        symmetry_score = get_symmetry(source + photo)\n",
    "        \n",
    "        score_list.append(symmetry_score)\n",
    "\n",
    "    max_index = score_list.index(max(score_list))\n",
    "    \n",
    "    return max_index"
   ]
  },
  {
   "cell_type": "code",
   "execution_count": 0,
   "metadata": {
    "colab": {},
    "colab_type": "code",
    "id": "nznFHCjsN6v_"
   },
   "outputs": [],
   "source": [
    "def get_symmetry(path):\n",
    "    ## Just splits the image in half, then flips one, then compares the difference between the two\n",
    "    \n",
    "    img = cv2.imread(path, cv2.COLOR_BGR2GRAY)\n",
    "    center = img.shape[1]\n",
    "    right_side = img[:,int(img.shape[1]/2):int(img.shape[1])]\n",
    "    left_side = img[:,0:int(img.shape[1]/2)]\n",
    "    right_flipped = cv2.flip( right_side, 1 )\n",
    "    grayA = cv2.cvtColor(left_side, cv2.COLOR_BGR2GRAY)\n",
    "    grayB = cv2.cvtColor(right_flipped, cv2.COLOR_BGR2GRAY)\n",
    "    (score, diff) = compare_ssim(grayA, grayB, full=True)\n",
    "#     imshow(diff)\n",
    "    return score"
   ]
  },
  {
   "cell_type": "code",
   "execution_count": 0,
   "metadata": {
    "colab": {},
    "colab_type": "code",
    "id": "7Jv0lflaN6wV"
   },
   "outputs": [],
   "source": [
    "# TODO: get the head pose of the image.\n",
    "def get_pose(path):\n",
    "    print(path)"
   ]
  },
  {
   "cell_type": "markdown",
   "metadata": {
    "colab_type": "text",
    "id": "tVS53SQoN6wb"
   },
   "source": [
    "**[11] COMPARE INDIVIDUALS FUNCTION**"
   ]
  },
  {
   "cell_type": "code",
   "execution_count": 0,
   "metadata": {
    "colab": {},
    "colab_type": "code",
    "id": "zAz31vf3N6wc"
   },
   "outputs": [],
   "source": [
    "def compare_individuals(p1_photo_list, p2_photo_list, combo):\n",
    "    # this function receives two lists of multiple image paths for the same individual and returns all of the features\n",
    "    # I think this could count as a one-shot siamese model as it is right now.?\n",
    "    \n",
    "    # TODO: find a way to find the 'best' photo or use all photos somehow.\n",
    "    #       * figure out how symmetrical the test photos are and match training data to it?\n",
    "    #       * group multiple images that are similar, remove duplicates?\n",
    "    #       * Can I get a 3D mesh?\n",
    "    \n",
    "    p1_best_photo = get_best_photo(p1_photo_list, combo.split('-')[0])\n",
    "    p2_best_photo = get_best_photo(p2_photo_list, combo.split('-')[1])\n",
    "    \n",
    "    p1_photo = p1_photo_list[p1_best_photo] \n",
    "    p2_photo = p2_photo_list[p2_best_photo]\n",
    "    p1_source = get_source(p1_photo, combo.split('-')[0])\n",
    "    p2_source = get_source(p2_photo, combo.split('-')[1])\n",
    "    \n",
    "    p1_age = get_age(p1_source + p1_photo)\n",
    "    p2_age = get_age(p2_source + p2_photo)\n",
    "    p1_size = get_imqual(p1_source + p1_photo)\n",
    "    p2_size = get_imqual(p2_source + p2_photo)\n",
    "    p1_gender = get_gender(p1_source + p1_photo)\n",
    "    p2_gender = get_gender(p2_source + p2_photo)  \n",
    "    vgg_diff = get_vgg_diff(p1_source + p1_photo, p2_source + p2_photo)\n",
    "    perc_diff = get_pairdiff(p1_source + p1_photo, p2_source + p2_photo)\n",
    "    facenet_euclid = get_facenet_diff(p1_source + p1_photo, p2_source + p2_photo)\n",
    "    \n",
    "    return {\n",
    "        'p1_age': p1_age,\n",
    "        'p2_age': p2_age,\n",
    "        'p1_size': p1_size,\n",
    "        'p2_size': p2_size,\n",
    "        'p1_gender': p1_gender[0],\n",
    "        'p2_gender': p2_gender[0],\n",
    "        'perc_diff': perc_diff,\n",
    "        'vgg_cosine': vgg_diff['vgg_cosine'],\n",
    "        'vgg_euclid': vgg_diff['vgg_euclid'],\n",
    "        'facenet_euclid': facenet_euclid\n",
    "    }"
   ]
  },
  {
   "cell_type": "markdown",
   "metadata": {
    "colab_type": "text",
    "id": "zXzXfZmhN6we"
   },
   "source": [
    "**[12] TRIMMING TEST & TRAIN DATA FOR DEBUGGING**"
   ]
  },
  {
   "cell_type": "code",
   "execution_count": 0,
   "metadata": {
    "colab": {},
    "colab_type": "code",
    "id": "QjjGiOP7N6we"
   },
   "outputs": [],
   "source": [
    "# debug_rows = 100\n",
    "\n",
    "# if debug_rows != 0:\n",
    "#     train_df = train_df.head(debug_rows)\n",
    "#     test_df = test_df.head(debug_rows)\n",
    "    \n",
    "# print(train_df.shape)\n",
    "# print(test_df.shape)\n",
    "\n",
    "# train_df.head(5)"
   ]
  },
  {
   "cell_type": "markdown",
   "metadata": {
    "colab_type": "text",
    "id": "-Yka4DPiN6wg"
   },
   "source": [
    "**[13] FEATURE CREATION FOR TRAINING DATASET**"
   ]
  },
  {
   "cell_type": "code",
   "execution_count": 0,
   "metadata": {
    "colab": {
     "base_uri": "https://localhost:8080/",
     "height": 34
    },
    "colab_type": "code",
    "id": "AeCkh-saN6wh",
    "outputId": "fc58ebfc-9b03-4b3f-e34a-3d03d703754a"
   },
   "outputs": [
    {
     "name": "stderr",
     "output_type": "stream",
     "text": [
      "100%|██████████| 8840/8840 [1:39:08<00:00,  1.48it/s]\n"
     ]
    }
   ],
   "source": [
    "train_rows = train_df.shape[0]\n",
    "\n",
    "for i in tqdm(range(0, train_rows)): \n",
    "\n",
    "    if isinstance(train_df.loc[i, 'p1_photo_list'], str):\n",
    "        p1_list = list(eval(train_df.loc[i, 'p1_photo_list']))\n",
    "    else:\n",
    "        p1_list = list(train_df.loc[i, 'p1_photo_list'])\n",
    "\n",
    "    if isinstance(train_df.loc[i, 'p2_photo_list'], str):\n",
    "        p2_list = list(eval(train_df.loc[i, 'p2_photo_list']))\n",
    "    else:\n",
    "        p2_list = list(train_df.loc[i, 'p2_photo_list'])\n",
    "\n",
    "    results = compare_individuals(p1_list, p2_list, train_df.loc[i, 'combo'])\n",
    "\n",
    "    train_df.loc[i, 'p1_age'] = results['p1_age']\n",
    "    train_df.loc[i, 'p2_age'] = results['p2_age']\n",
    "    train_df.loc[i, 'p1_size'] = results['p1_size']\n",
    "    train_df.loc[i, 'p2_size'] = results['p2_size']\n",
    "    train_df.loc[i, 'p1_gender'] = results['p1_gender']\n",
    "    train_df.loc[i, 'p2_gender'] = results['p2_gender']\n",
    "    train_df.loc[i, 'perc_diff'] = results['perc_diff']\n",
    "    train_df.loc[i, 'vgg_cosine'] = results['vgg_cosine']\n",
    "    train_df.loc[i, 'vgg_euclid'] = results['vgg_euclid']\n",
    "    train_df.loc[i, 'facenet_euclid'] = results['facenet_euclid']"
   ]
  },
  {
   "cell_type": "markdown",
   "metadata": {
    "colab_type": "text",
    "id": "0VGFRqARN6wk"
   },
   "source": [
    "**[14] FEATURE CREATION FOR TEST DATASET**"
   ]
  },
  {
   "cell_type": "code",
   "execution_count": 0,
   "metadata": {
    "colab": {
     "base_uri": "https://localhost:8080/",
     "height": 34
    },
    "colab_type": "code",
    "id": "VNO01AQlN6wk",
    "outputId": "05dba355-e5f5-472e-b993-f552327c9126"
   },
   "outputs": [
    {
     "name": "stderr",
     "output_type": "stream",
     "text": [
      "100%|██████████| 5310/5310 [57:58<00:00,  1.55it/s]\n"
     ]
    }
   ],
   "source": [
    "test_df['p1_age'] = 0\n",
    "test_df['p2_age'] = 0\n",
    "test_df['p1_size'] = 0\n",
    "test_df['p2_size'] = 0\n",
    "test_df['p1_gender'] = 0\n",
    "test_df['p2_gender'] = 0\n",
    "test_df['perc_diff'] = 0\n",
    "test_df['vgg_cosine'] = 0\n",
    "test_df['vgg_euclid'] = 0\n",
    "test_df['facenet_euclid'] = 0\n",
    "\n",
    "for i in tqdm(range(0, test_df.shape[0])):\n",
    "\n",
    "    combo = test_df.loc[i, 'img_pair'].split('-')\n",
    "    \n",
    "    results = compare_individuals([combo[0]], [combo[1]] , test_df.loc[i, 'img_pair'])\n",
    "    \n",
    "    test_df.loc[i, 'p1_age'] = results['p1_age']\n",
    "    test_df.loc[i, 'p2_age'] = results['p2_age']\n",
    "    test_df.loc[i, 'p1_size'] = results['p1_size']\n",
    "    test_df.loc[i, 'p2_size'] = results['p2_size']\n",
    "    test_df.loc[i, 'p1_gender'] = results['p1_gender']\n",
    "    test_df.loc[i, 'p2_gender'] = results['p2_gender']\n",
    "    test_df.loc[i, 'perc_diff'] = results['perc_diff']\n",
    "    test_df.loc[i, 'vgg_cosine'] = results['vgg_cosine']\n",
    "    test_df.loc[i, 'vgg_euclid'] = results['vgg_euclid']\n",
    "    test_df.loc[i, 'facenet_euclid'] = results['facenet_euclid']"
   ]
  },
  {
   "cell_type": "markdown",
   "metadata": {
    "colab_type": "text",
    "id": "czIy6uopN6wp"
   },
   "source": [
    "**[15] TESTING & TRAINING DATA FORMALIZATION**"
   ]
  },
  {
   "cell_type": "code",
   "execution_count": 0,
   "metadata": {
    "colab": {
     "base_uri": "https://localhost:8080/",
     "height": 425
    },
    "colab_type": "code",
    "id": "WnRkvD2cN6wq",
    "outputId": "fa0a1117-4339-4b94-d396-f08307c5695f"
   },
   "outputs": [
    {
     "name": "stdout",
     "output_type": "stream",
     "text": [
      "(8840, 11)\n",
      "is_related          int64\n",
      "p1_age            float64\n",
      "p2_age            float64\n",
      "p1_size           float64\n",
      "p2_size           float64\n",
      "p1_gender         float64\n",
      "p2_gender         float64\n",
      "vgg_cosine        float64\n",
      "vgg_euclid        float64\n",
      "perc_diff         float64\n",
      "facenet_euclid    float64\n",
      "dtype: object\n"
     ]
    },
    {
     "data": {
      "text/html": [
       "<div>\n",
       "<style scoped>\n",
       "    .dataframe tbody tr th:only-of-type {\n",
       "        vertical-align: middle;\n",
       "    }\n",
       "\n",
       "    .dataframe tbody tr th {\n",
       "        vertical-align: top;\n",
       "    }\n",
       "\n",
       "    .dataframe thead th {\n",
       "        text-align: right;\n",
       "    }\n",
       "</style>\n",
       "<table border=\"1\" class=\"dataframe\">\n",
       "  <thead>\n",
       "    <tr style=\"text-align: right;\">\n",
       "      <th></th>\n",
       "      <th>is_related</th>\n",
       "      <th>p1_age</th>\n",
       "      <th>p2_age</th>\n",
       "      <th>p1_size</th>\n",
       "      <th>p2_size</th>\n",
       "      <th>p1_gender</th>\n",
       "      <th>p2_gender</th>\n",
       "      <th>vgg_cosine</th>\n",
       "      <th>vgg_euclid</th>\n",
       "      <th>perc_diff</th>\n",
       "      <th>facenet_euclid</th>\n",
       "    </tr>\n",
       "  </thead>\n",
       "  <tbody>\n",
       "    <tr>\n",
       "      <th>0</th>\n",
       "      <td>0</td>\n",
       "      <td>5.0</td>\n",
       "      <td>5.0</td>\n",
       "      <td>150528.0</td>\n",
       "      <td>150528.0</td>\n",
       "      <td>0.003328</td>\n",
       "      <td>0.977121</td>\n",
       "      <td>0.478893</td>\n",
       "      <td>61.498665</td>\n",
       "      <td>0.413357</td>\n",
       "      <td>1.580788</td>\n",
       "    </tr>\n",
       "    <tr>\n",
       "      <th>1</th>\n",
       "      <td>0</td>\n",
       "      <td>4.0</td>\n",
       "      <td>3.0</td>\n",
       "      <td>150528.0</td>\n",
       "      <td>150528.0</td>\n",
       "      <td>0.005657</td>\n",
       "      <td>0.927582</td>\n",
       "      <td>0.252604</td>\n",
       "      <td>53.208481</td>\n",
       "      <td>0.475227</td>\n",
       "      <td>1.465388</td>\n",
       "    </tr>\n",
       "    <tr>\n",
       "      <th>2</th>\n",
       "      <td>0</td>\n",
       "      <td>7.0</td>\n",
       "      <td>2.0</td>\n",
       "      <td>150528.0</td>\n",
       "      <td>150528.0</td>\n",
       "      <td>0.983584</td>\n",
       "      <td>0.580775</td>\n",
       "      <td>0.312536</td>\n",
       "      <td>52.667152</td>\n",
       "      <td>0.541288</td>\n",
       "      <td>1.497537</td>\n",
       "    </tr>\n",
       "    <tr>\n",
       "      <th>3</th>\n",
       "      <td>0</td>\n",
       "      <td>7.0</td>\n",
       "      <td>5.0</td>\n",
       "      <td>150528.0</td>\n",
       "      <td>150528.0</td>\n",
       "      <td>0.999946</td>\n",
       "      <td>0.999972</td>\n",
       "      <td>0.435567</td>\n",
       "      <td>63.167820</td>\n",
       "      <td>0.401131</td>\n",
       "      <td>1.404188</td>\n",
       "    </tr>\n",
       "    <tr>\n",
       "      <th>4</th>\n",
       "      <td>0</td>\n",
       "      <td>6.0</td>\n",
       "      <td>5.0</td>\n",
       "      <td>150528.0</td>\n",
       "      <td>150528.0</td>\n",
       "      <td>0.093508</td>\n",
       "      <td>0.061933</td>\n",
       "      <td>0.452124</td>\n",
       "      <td>59.598824</td>\n",
       "      <td>0.540205</td>\n",
       "      <td>1.269764</td>\n",
       "    </tr>\n",
       "  </tbody>\n",
       "</table>\n",
       "</div>"
      ],
      "text/plain": [
       "   is_related  p1_age  p2_age  ...  vgg_euclid  perc_diff  facenet_euclid\n",
       "0           0     5.0     5.0  ...   61.498665   0.413357        1.580788\n",
       "1           0     4.0     3.0  ...   53.208481   0.475227        1.465388\n",
       "2           0     7.0     2.0  ...   52.667152   0.541288        1.497537\n",
       "3           0     7.0     5.0  ...   63.167820   0.401131        1.404188\n",
       "4           0     6.0     5.0  ...   59.598824   0.540205        1.269764\n",
       "\n",
       "[5 rows x 11 columns]"
      ]
     },
     "execution_count": 33,
     "metadata": {
      "tags": []
     },
     "output_type": "execute_result"
    }
   ],
   "source": [
    "final_train_df = train_df.dropna()\n",
    "final_train_df = final_train_df.reset_index()\n",
    "\n",
    "final_test_df = test_df # test_df = sample_submission.csv\n",
    "\n",
    "keeper_columns = ['is_related', # target\n",
    "                  'p1_age',\n",
    "                  'p2_age',\n",
    "                  'p1_size',\n",
    "                  'p2_size',\n",
    "                  'p1_gender',           \n",
    "                  'p2_gender',\n",
    "                  'vgg_cosine',\n",
    "                  'vgg_euclid',\n",
    "                  'perc_diff',\n",
    "                  'facenet_euclid'\n",
    "                 ]\n",
    "\n",
    "final_train_df = final_train_df[keeper_columns]\n",
    "\n",
    "final_test_df = test_df[keeper_columns]\n",
    "final_test_df = final_test_df.drop('is_related', 1)\n",
    "\n",
    "test_cols = ['p1_age',\n",
    "             'p2_age',\n",
    "             'p1_size',\n",
    "             'p2_size',\n",
    "             'p1_gender',\n",
    "             'p2_gender',\n",
    "             'vgg_cosine',\n",
    "             'vgg_euclid',\n",
    "             'perc_diff',\n",
    "             'facenet_euclid'\n",
    "            ]\n",
    "\n",
    "final_test_df[test_cols] = final_test_df[test_cols].astype(float)\n",
    "\n",
    "print(final_train_df.shape)\n",
    "print(final_train_df.dtypes)\n",
    "\n",
    "final_train_df.head(5)"
   ]
  },
  {
   "cell_type": "code",
   "execution_count": 0,
   "metadata": {
    "colab": {
     "base_uri": "https://localhost:8080/",
     "height": 204
    },
    "colab_type": "code",
    "id": "Z0OWKtMyN6wt",
    "outputId": "3a88f8a8-1bb8-48cd-a3e6-f7b9d5d7700b"
   },
   "outputs": [
    {
     "data": {
      "text/html": [
       "<div>\n",
       "<style scoped>\n",
       "    .dataframe tbody tr th:only-of-type {\n",
       "        vertical-align: middle;\n",
       "    }\n",
       "\n",
       "    .dataframe tbody tr th {\n",
       "        vertical-align: top;\n",
       "    }\n",
       "\n",
       "    .dataframe thead th {\n",
       "        text-align: right;\n",
       "    }\n",
       "</style>\n",
       "<table border=\"1\" class=\"dataframe\">\n",
       "  <thead>\n",
       "    <tr style=\"text-align: right;\">\n",
       "      <th></th>\n",
       "      <th>is_related</th>\n",
       "      <th>p1_age</th>\n",
       "      <th>p2_age</th>\n",
       "      <th>p1_size</th>\n",
       "      <th>p2_size</th>\n",
       "      <th>p1_gender</th>\n",
       "      <th>p2_gender</th>\n",
       "      <th>vgg_cosine</th>\n",
       "      <th>vgg_euclid</th>\n",
       "      <th>perc_diff</th>\n",
       "      <th>facenet_euclid</th>\n",
       "    </tr>\n",
       "  </thead>\n",
       "  <tbody>\n",
       "    <tr>\n",
       "      <th>8835</th>\n",
       "      <td>0</td>\n",
       "      <td>6.0</td>\n",
       "      <td>2.0</td>\n",
       "      <td>150528.0</td>\n",
       "      <td>150528.0</td>\n",
       "      <td>0.746680</td>\n",
       "      <td>0.007742</td>\n",
       "      <td>0.359824</td>\n",
       "      <td>57.084499</td>\n",
       "      <td>0.327365</td>\n",
       "      <td>1.291629</td>\n",
       "    </tr>\n",
       "    <tr>\n",
       "      <th>8836</th>\n",
       "      <td>0</td>\n",
       "      <td>7.0</td>\n",
       "      <td>5.0</td>\n",
       "      <td>150528.0</td>\n",
       "      <td>150528.0</td>\n",
       "      <td>0.999993</td>\n",
       "      <td>0.000629</td>\n",
       "      <td>0.427552</td>\n",
       "      <td>50.022106</td>\n",
       "      <td>0.391213</td>\n",
       "      <td>1.515509</td>\n",
       "    </tr>\n",
       "    <tr>\n",
       "      <th>8837</th>\n",
       "      <td>0</td>\n",
       "      <td>5.0</td>\n",
       "      <td>7.0</td>\n",
       "      <td>150528.0</td>\n",
       "      <td>150528.0</td>\n",
       "      <td>0.000642</td>\n",
       "      <td>0.011400</td>\n",
       "      <td>0.507760</td>\n",
       "      <td>62.430527</td>\n",
       "      <td>0.412613</td>\n",
       "      <td>1.545444</td>\n",
       "    </tr>\n",
       "    <tr>\n",
       "      <th>8838</th>\n",
       "      <td>0</td>\n",
       "      <td>6.0</td>\n",
       "      <td>5.0</td>\n",
       "      <td>150528.0</td>\n",
       "      <td>150528.0</td>\n",
       "      <td>0.999654</td>\n",
       "      <td>0.979017</td>\n",
       "      <td>0.341131</td>\n",
       "      <td>51.786598</td>\n",
       "      <td>0.340478</td>\n",
       "      <td>1.553028</td>\n",
       "    </tr>\n",
       "    <tr>\n",
       "      <th>8839</th>\n",
       "      <td>0</td>\n",
       "      <td>5.0</td>\n",
       "      <td>2.0</td>\n",
       "      <td>150528.0</td>\n",
       "      <td>150528.0</td>\n",
       "      <td>0.999879</td>\n",
       "      <td>0.013860</td>\n",
       "      <td>0.390779</td>\n",
       "      <td>57.529079</td>\n",
       "      <td>0.338393</td>\n",
       "      <td>1.316272</td>\n",
       "    </tr>\n",
       "  </tbody>\n",
       "</table>\n",
       "</div>"
      ],
      "text/plain": [
       "      is_related  p1_age  p2_age  ...  vgg_euclid  perc_diff  facenet_euclid\n",
       "8835           0     6.0     2.0  ...   57.084499   0.327365        1.291629\n",
       "8836           0     7.0     5.0  ...   50.022106   0.391213        1.515509\n",
       "8837           0     5.0     7.0  ...   62.430527   0.412613        1.545444\n",
       "8838           0     6.0     5.0  ...   51.786598   0.340478        1.553028\n",
       "8839           0     5.0     2.0  ...   57.529079   0.338393        1.316272\n",
       "\n",
       "[5 rows x 11 columns]"
      ]
     },
     "execution_count": 34,
     "metadata": {
      "tags": []
     },
     "output_type": "execute_result"
    }
   ],
   "source": [
    "final_train_df.tail(5)"
   ]
  },
  {
   "cell_type": "code",
   "execution_count": 0,
   "metadata": {
    "colab": {
     "base_uri": "https://localhost:8080/",
     "height": 204
    },
    "colab_type": "code",
    "id": "ETeDgT_rN6wx",
    "outputId": "301f2864-47f0-44f0-ff49-7e677b16a4d3"
   },
   "outputs": [
    {
     "data": {
      "text/html": [
       "<div>\n",
       "<style scoped>\n",
       "    .dataframe tbody tr th:only-of-type {\n",
       "        vertical-align: middle;\n",
       "    }\n",
       "\n",
       "    .dataframe tbody tr th {\n",
       "        vertical-align: top;\n",
       "    }\n",
       "\n",
       "    .dataframe thead th {\n",
       "        text-align: right;\n",
       "    }\n",
       "</style>\n",
       "<table border=\"1\" class=\"dataframe\">\n",
       "  <thead>\n",
       "    <tr style=\"text-align: right;\">\n",
       "      <th></th>\n",
       "      <th>p1_age</th>\n",
       "      <th>p2_age</th>\n",
       "      <th>p1_size</th>\n",
       "      <th>p2_size</th>\n",
       "      <th>p1_gender</th>\n",
       "      <th>p2_gender</th>\n",
       "      <th>vgg_cosine</th>\n",
       "      <th>vgg_euclid</th>\n",
       "      <th>perc_diff</th>\n",
       "      <th>facenet_euclid</th>\n",
       "    </tr>\n",
       "  </thead>\n",
       "  <tbody>\n",
       "    <tr>\n",
       "      <th>0</th>\n",
       "      <td>5.0</td>\n",
       "      <td>3.0</td>\n",
       "      <td>150528.0</td>\n",
       "      <td>150528.0</td>\n",
       "      <td>0.001094</td>\n",
       "      <td>0.973347</td>\n",
       "      <td>0.294614</td>\n",
       "      <td>37.443874</td>\n",
       "      <td>0.550123</td>\n",
       "      <td>1.482808</td>\n",
       "    </tr>\n",
       "    <tr>\n",
       "      <th>1</th>\n",
       "      <td>5.0</td>\n",
       "      <td>1.0</td>\n",
       "      <td>150528.0</td>\n",
       "      <td>150528.0</td>\n",
       "      <td>0.271674</td>\n",
       "      <td>0.973559</td>\n",
       "      <td>0.369721</td>\n",
       "      <td>54.460209</td>\n",
       "      <td>0.412822</td>\n",
       "      <td>1.390086</td>\n",
       "    </tr>\n",
       "    <tr>\n",
       "      <th>2</th>\n",
       "      <td>6.0</td>\n",
       "      <td>2.0</td>\n",
       "      <td>150528.0</td>\n",
       "      <td>150528.0</td>\n",
       "      <td>0.020392</td>\n",
       "      <td>0.000632</td>\n",
       "      <td>0.221411</td>\n",
       "      <td>36.089355</td>\n",
       "      <td>0.560284</td>\n",
       "      <td>1.415027</td>\n",
       "    </tr>\n",
       "    <tr>\n",
       "      <th>3</th>\n",
       "      <td>5.0</td>\n",
       "      <td>4.0</td>\n",
       "      <td>150528.0</td>\n",
       "      <td>150528.0</td>\n",
       "      <td>0.999999</td>\n",
       "      <td>0.999853</td>\n",
       "      <td>0.251657</td>\n",
       "      <td>41.344631</td>\n",
       "      <td>0.521571</td>\n",
       "      <td>1.317899</td>\n",
       "    </tr>\n",
       "    <tr>\n",
       "      <th>4</th>\n",
       "      <td>7.0</td>\n",
       "      <td>3.0</td>\n",
       "      <td>150528.0</td>\n",
       "      <td>150528.0</td>\n",
       "      <td>0.999964</td>\n",
       "      <td>0.609611</td>\n",
       "      <td>0.513305</td>\n",
       "      <td>63.871769</td>\n",
       "      <td>0.477167</td>\n",
       "      <td>1.166235</td>\n",
       "    </tr>\n",
       "  </tbody>\n",
       "</table>\n",
       "</div>"
      ],
      "text/plain": [
       "   p1_age  p2_age   p1_size  ...  vgg_euclid  perc_diff  facenet_euclid\n",
       "0     5.0     3.0  150528.0  ...   37.443874   0.550123        1.482808\n",
       "1     5.0     1.0  150528.0  ...   54.460209   0.412822        1.390086\n",
       "2     6.0     2.0  150528.0  ...   36.089355   0.560284        1.415027\n",
       "3     5.0     4.0  150528.0  ...   41.344631   0.521571        1.317899\n",
       "4     7.0     3.0  150528.0  ...   63.871769   0.477167        1.166235\n",
       "\n",
       "[5 rows x 10 columns]"
      ]
     },
     "execution_count": 35,
     "metadata": {
      "tags": []
     },
     "output_type": "execute_result"
    }
   ],
   "source": [
    "final_test_df.head(5)"
   ]
  },
  {
   "cell_type": "code",
   "execution_count": 0,
   "metadata": {
    "colab": {
     "base_uri": "https://localhost:8080/",
     "height": 204
    },
    "colab_type": "code",
    "id": "1SQE99G6N6w2",
    "outputId": "9a0edfd7-cb21-45f3-b454-316c21d4c516"
   },
   "outputs": [
    {
     "data": {
      "text/html": [
       "<div>\n",
       "<style scoped>\n",
       "    .dataframe tbody tr th:only-of-type {\n",
       "        vertical-align: middle;\n",
       "    }\n",
       "\n",
       "    .dataframe tbody tr th {\n",
       "        vertical-align: top;\n",
       "    }\n",
       "\n",
       "    .dataframe thead th {\n",
       "        text-align: right;\n",
       "    }\n",
       "</style>\n",
       "<table border=\"1\" class=\"dataframe\">\n",
       "  <thead>\n",
       "    <tr style=\"text-align: right;\">\n",
       "      <th></th>\n",
       "      <th>p1_age</th>\n",
       "      <th>p2_age</th>\n",
       "      <th>p1_size</th>\n",
       "      <th>p2_size</th>\n",
       "      <th>p1_gender</th>\n",
       "      <th>p2_gender</th>\n",
       "      <th>vgg_cosine</th>\n",
       "      <th>vgg_euclid</th>\n",
       "      <th>perc_diff</th>\n",
       "      <th>facenet_euclid</th>\n",
       "    </tr>\n",
       "  </thead>\n",
       "  <tbody>\n",
       "    <tr>\n",
       "      <th>5305</th>\n",
       "      <td>2.0</td>\n",
       "      <td>5.0</td>\n",
       "      <td>150528.0</td>\n",
       "      <td>150528.0</td>\n",
       "      <td>0.999991</td>\n",
       "      <td>0.999978</td>\n",
       "      <td>0.549953</td>\n",
       "      <td>81.275513</td>\n",
       "      <td>0.225436</td>\n",
       "      <td>1.406486</td>\n",
       "    </tr>\n",
       "    <tr>\n",
       "      <th>5306</th>\n",
       "      <td>7.0</td>\n",
       "      <td>3.0</td>\n",
       "      <td>150528.0</td>\n",
       "      <td>150528.0</td>\n",
       "      <td>0.999736</td>\n",
       "      <td>0.504924</td>\n",
       "      <td>0.498154</td>\n",
       "      <td>69.515480</td>\n",
       "      <td>0.237252</td>\n",
       "      <td>1.204825</td>\n",
       "    </tr>\n",
       "    <tr>\n",
       "      <th>5307</th>\n",
       "      <td>7.0</td>\n",
       "      <td>3.0</td>\n",
       "      <td>150528.0</td>\n",
       "      <td>150528.0</td>\n",
       "      <td>0.999736</td>\n",
       "      <td>0.999945</td>\n",
       "      <td>0.388217</td>\n",
       "      <td>66.580269</td>\n",
       "      <td>0.247988</td>\n",
       "      <td>1.224272</td>\n",
       "    </tr>\n",
       "    <tr>\n",
       "      <th>5308</th>\n",
       "      <td>7.0</td>\n",
       "      <td>2.0</td>\n",
       "      <td>150528.0</td>\n",
       "      <td>150528.0</td>\n",
       "      <td>0.999736</td>\n",
       "      <td>0.999893</td>\n",
       "      <td>0.415644</td>\n",
       "      <td>68.545563</td>\n",
       "      <td>0.403698</td>\n",
       "      <td>1.225959</td>\n",
       "    </tr>\n",
       "    <tr>\n",
       "      <th>5309</th>\n",
       "      <td>7.0</td>\n",
       "      <td>5.0</td>\n",
       "      <td>150528.0</td>\n",
       "      <td>150528.0</td>\n",
       "      <td>0.999736</td>\n",
       "      <td>0.999978</td>\n",
       "      <td>0.536587</td>\n",
       "      <td>82.348129</td>\n",
       "      <td>0.267001</td>\n",
       "      <td>1.390455</td>\n",
       "    </tr>\n",
       "  </tbody>\n",
       "</table>\n",
       "</div>"
      ],
      "text/plain": [
       "      p1_age  p2_age   p1_size  ...  vgg_euclid  perc_diff  facenet_euclid\n",
       "5305     2.0     5.0  150528.0  ...   81.275513   0.225436        1.406486\n",
       "5306     7.0     3.0  150528.0  ...   69.515480   0.237252        1.204825\n",
       "5307     7.0     3.0  150528.0  ...   66.580269   0.247988        1.224272\n",
       "5308     7.0     2.0  150528.0  ...   68.545563   0.403698        1.225959\n",
       "5309     7.0     5.0  150528.0  ...   82.348129   0.267001        1.390455\n",
       "\n",
       "[5 rows x 10 columns]"
      ]
     },
     "execution_count": 36,
     "metadata": {
      "tags": []
     },
     "output_type": "execute_result"
    }
   ],
   "source": [
    "final_test_df.tail(5)"
   ]
  },
  {
   "cell_type": "markdown",
   "metadata": {
    "colab_type": "text",
    "id": "We_f1ovpN6w8"
   },
   "source": [
    "**[17] FINAL RECTANGULAR XGBOOST MODEL**"
   ]
  },
  {
   "cell_type": "code",
   "execution_count": 0,
   "metadata": {
    "colab": {},
    "colab_type": "code",
    "id": "Pk3TIlTwouOy"
   },
   "outputs": [],
   "source": [
    "final_train_df = pd.read_csv('/content/final_train_df_079.csv')"
   ]
  },
  {
   "cell_type": "code",
   "execution_count": 0,
   "metadata": {
    "colab": {
     "base_uri": "https://localhost:8080/",
     "height": 255
    },
    "colab_type": "code",
    "id": "dl-Sk4PjN6w9",
    "outputId": "5fd438d4-a0df-4e7f-d926-11ebf832ef9c"
   },
   "outputs": [
    {
     "name": "stdout",
     "output_type": "stream",
     "text": [
      "Index(['is_related', 'p1_age', 'p2_age', 'p1_size', 'p2_size', 'p1_gender',\n",
      "       'p2_gender', 'vgg_cosine', 'vgg_euclid', 'perc_diff', 'facenet_euclid'],\n",
      "      dtype='object')\n",
      "[01:12:47] WARNING: /workspace/src/objective/regression_obj.cu:152: reg:linear is now deprecated in favor of reg:squarederror.\n",
      "[01:12:47] WARNING: /workspace/src/objective/regression_obj.cu:152: reg:linear is now deprecated in favor of reg:squarederror.\n",
      "[01:12:47] WARNING: /workspace/src/objective/regression_obj.cu:152: reg:linear is now deprecated in favor of reg:squarederror.\n",
      "   train-rmse-mean  train-rmse-std  test-rmse-mean  test-rmse-std\n",
      "0         0.495438        0.000117        0.495790       0.000061\n",
      "1         0.488120        0.002292        0.489154       0.001912\n",
      "2         0.482942        0.002003        0.484517       0.001872\n",
      "3         0.478069        0.001826        0.479721       0.001036\n",
      "4         0.472746        0.003551        0.474997       0.002583\n",
      "[01:12:48] WARNING: /workspace/src/objective/regression_obj.cu:152: reg:linear is now deprecated in favor of reg:squarederror.\n",
      "IN-SAMPLE TEST RMSE: 0.424422\n"
     ]
    }
   ],
   "source": [
    "# https://www.datacamp.com/community/tutorials/xgboost-in-python\n",
    "\n",
    "print(final_train_df.columns)\n",
    "\n",
    "# Separate target from features (is_related ~ *)\n",
    "X, y = final_train_df.iloc[:,1:], final_train_df.iloc[:,:1]  # because price is the target, the last column\n",
    "\n",
    "# print(X) # features\n",
    "# print(y) # target\n",
    "\n",
    "data_dmatrix = xgb.DMatrix(data = X, label = y)\n",
    "\n",
    "# split test & train\n",
    "X_train, X_test, y_train, y_test = train_test_split(X, y, test_size = 0.2, random_state = 42) # DON'T PANIC\n",
    "\n",
    "params = { 'objective':'reg:linear',\n",
    "           'colsample_bytree': 0.3,\n",
    "           'n_estimators' : 10,\n",
    "           'learning_rate': 0.1, \n",
    "           'max_depth': 10, \n",
    "           'alpha': 10 }\n",
    "\n",
    "# Cross Validation\n",
    "cv_results = xgb.cv(dtrain = data_dmatrix, \n",
    "                    params = params, \n",
    "                    nfold = 3,\n",
    "                    num_boost_round = 50, \n",
    "                    early_stopping_rounds = 10,\n",
    "                    metrics = \"rmse\", \n",
    "                    as_pandas = True, \n",
    "                    seed = 42) \n",
    "\n",
    "print(cv_results.head())\n",
    "\n",
    "xg_reg = xgb.XGBRegressor(params = params, \n",
    "                          dtrain = data_dmatrix, \n",
    "                          num_boost_round = 10)\n",
    "\n",
    "xg_reg.fit(X_train, y_train)\n",
    "\n",
    "# Predict On In-Sample Test Data (20% of trainig dataset)\n",
    "preds = xg_reg.predict(X_test)   # print(len(preds), ' predictions')\n",
    "\n",
    "# In-Sample Test RMSE\n",
    "rmse = np.sqrt(mean_squared_error(y_test, preds))\n",
    "print(\"IN-SAMPLE TEST RMSE: %f\" % (rmse))"
   ]
  },
  {
   "cell_type": "code",
   "execution_count": 0,
   "metadata": {
    "colab": {},
    "colab_type": "code",
    "id": "ghcVvTliN6xA"
   },
   "outputs": [],
   "source": [
    "import matplotlib.pyplot as plt\n",
    "\n",
    "xgb.plot_tree(xg_reg, num_trees=0)\n",
    "plt.rcParams['figure.figsize'] = [100, 100]\n",
    "plt.show()"
   ]
  },
  {
   "cell_type": "code",
   "execution_count": 0,
   "metadata": {
    "colab": {},
    "colab_type": "code",
    "id": "Zrch4ofZN6xF"
   },
   "outputs": [],
   "source": [
    "xgb.plot_importance(xg_reg)\n",
    "plt.rcParams['figure.figsize'] = [100, 100]\n",
    "plt.title(\"Variable Importance\", fontsize=100)\n",
    "plt.xlabel(\"Importance\", fontsize=100)\n",
    "plt.ylabel(\"Variable\", fontsize=100)\n",
    "plt.tick_params(labelsize=100);\n",
    "plt.show()"
   ]
  },
  {
   "cell_type": "code",
   "execution_count": 0,
   "metadata": {
    "colab": {
     "base_uri": "https://localhost:8080/",
     "height": 204
    },
    "colab_type": "code",
    "id": "VVdiaAb2N6xI",
    "outputId": "e2fd62c8-2ab5-4e6c-bebf-416f675e0560"
   },
   "outputs": [
    {
     "data": {
      "text/html": [
       "<div>\n",
       "<style scoped>\n",
       "    .dataframe tbody tr th:only-of-type {\n",
       "        vertical-align: middle;\n",
       "    }\n",
       "\n",
       "    .dataframe tbody tr th {\n",
       "        vertical-align: top;\n",
       "    }\n",
       "\n",
       "    .dataframe thead th {\n",
       "        text-align: right;\n",
       "    }\n",
       "</style>\n",
       "<table border=\"1\" class=\"dataframe\">\n",
       "  <thead>\n",
       "    <tr style=\"text-align: right;\">\n",
       "      <th></th>\n",
       "      <th>img_pair</th>\n",
       "      <th>is_related</th>\n",
       "      <th>p1_age</th>\n",
       "      <th>p2_age</th>\n",
       "      <th>p1_size</th>\n",
       "      <th>p2_size</th>\n",
       "      <th>p1_gender</th>\n",
       "      <th>p2_gender</th>\n",
       "      <th>perc_diff</th>\n",
       "      <th>vgg_cosine</th>\n",
       "      <th>vgg_euclid</th>\n",
       "      <th>facenet_euclid</th>\n",
       "    </tr>\n",
       "  </thead>\n",
       "  <tbody>\n",
       "    <tr>\n",
       "      <th>0</th>\n",
       "      <td>face05508.jpg-face01210.jpg</td>\n",
       "      <td>0</td>\n",
       "      <td>5</td>\n",
       "      <td>3</td>\n",
       "      <td>150528</td>\n",
       "      <td>150528</td>\n",
       "      <td>0.001094</td>\n",
       "      <td>0.973347</td>\n",
       "      <td>0.550123</td>\n",
       "      <td>0.294614</td>\n",
       "      <td>37.443874</td>\n",
       "      <td>1.482808</td>\n",
       "    </tr>\n",
       "    <tr>\n",
       "      <th>1</th>\n",
       "      <td>face05750.jpg-face00898.jpg</td>\n",
       "      <td>0</td>\n",
       "      <td>5</td>\n",
       "      <td>1</td>\n",
       "      <td>150528</td>\n",
       "      <td>150528</td>\n",
       "      <td>0.271674</td>\n",
       "      <td>0.973559</td>\n",
       "      <td>0.412822</td>\n",
       "      <td>0.369721</td>\n",
       "      <td>54.460209</td>\n",
       "      <td>1.390086</td>\n",
       "    </tr>\n",
       "    <tr>\n",
       "      <th>2</th>\n",
       "      <td>face05820.jpg-face03938.jpg</td>\n",
       "      <td>0</td>\n",
       "      <td>6</td>\n",
       "      <td>2</td>\n",
       "      <td>150528</td>\n",
       "      <td>150528</td>\n",
       "      <td>0.020392</td>\n",
       "      <td>0.000632</td>\n",
       "      <td>0.560284</td>\n",
       "      <td>0.221411</td>\n",
       "      <td>36.089355</td>\n",
       "      <td>1.415027</td>\n",
       "    </tr>\n",
       "    <tr>\n",
       "      <th>3</th>\n",
       "      <td>face02104.jpg-face01172.jpg</td>\n",
       "      <td>0</td>\n",
       "      <td>5</td>\n",
       "      <td>4</td>\n",
       "      <td>150528</td>\n",
       "      <td>150528</td>\n",
       "      <td>0.999999</td>\n",
       "      <td>0.999853</td>\n",
       "      <td>0.521571</td>\n",
       "      <td>0.251657</td>\n",
       "      <td>41.344631</td>\n",
       "      <td>1.317899</td>\n",
       "    </tr>\n",
       "    <tr>\n",
       "      <th>4</th>\n",
       "      <td>face02428.jpg-face05611.jpg</td>\n",
       "      <td>0</td>\n",
       "      <td>7</td>\n",
       "      <td>3</td>\n",
       "      <td>150528</td>\n",
       "      <td>150528</td>\n",
       "      <td>0.999964</td>\n",
       "      <td>0.609611</td>\n",
       "      <td>0.477167</td>\n",
       "      <td>0.513305</td>\n",
       "      <td>63.871769</td>\n",
       "      <td>1.166235</td>\n",
       "    </tr>\n",
       "  </tbody>\n",
       "</table>\n",
       "</div>"
      ],
      "text/plain": [
       "                      img_pair  is_related  ...  vgg_euclid  facenet_euclid\n",
       "0  face05508.jpg-face01210.jpg           0  ...   37.443874        1.482808\n",
       "1  face05750.jpg-face00898.jpg           0  ...   54.460209        1.390086\n",
       "2  face05820.jpg-face03938.jpg           0  ...   36.089355        1.415027\n",
       "3  face02104.jpg-face01172.jpg           0  ...   41.344631        1.317899\n",
       "4  face02428.jpg-face05611.jpg           0  ...   63.871769        1.166235\n",
       "\n",
       "[5 rows x 12 columns]"
      ]
     },
     "execution_count": 39,
     "metadata": {
      "tags": []
     },
     "output_type": "execute_result"
    }
   ],
   "source": [
    "test_df.head(5)"
   ]
  },
  {
   "cell_type": "markdown",
   "metadata": {
    "colab_type": "text",
    "id": "G8k_qSO8N6xL"
   },
   "source": [
    "**[18] PREDICTIONS**"
   ]
  },
  {
   "cell_type": "code",
   "execution_count": 0,
   "metadata": {
    "colab": {
     "base_uri": "https://localhost:8080/",
     "height": 34
    },
    "colab_type": "code",
    "id": "kmula4WHN6xL",
    "outputId": "886b2e9d-3718-467c-91c6-00d0228624dc"
   },
   "outputs": [
    {
     "name": "stdout",
     "output_type": "stream",
     "text": [
      "5310  final predictions\n"
     ]
    }
   ],
   "source": [
    "submission_predictions = xg_reg.predict(final_test_df)\n",
    "\n",
    "print(len(submission_predictions), ' final predictions')"
   ]
  },
  {
   "cell_type": "markdown",
   "metadata": {
    "colab_type": "text",
    "id": "Nh_zA_JTN6xN"
   },
   "source": [
    "**[19] SUBMISSION**"
   ]
  },
  {
   "cell_type": "code",
   "execution_count": 0,
   "metadata": {
    "colab": {},
    "colab_type": "code",
    "id": "wyUU_k5xN6xO"
   },
   "outputs": [],
   "source": [
    "sub_df = pd.read_csv(\"/content/input/recognizing-faces-in-the-wild/sample_submission.csv\")\n",
    "sub_df.is_related = submission_predictions"
   ]
  },
  {
   "cell_type": "code",
   "execution_count": 0,
   "metadata": {
    "colab": {
     "base_uri": "https://localhost:8080/",
     "height": 359
    },
    "colab_type": "code",
    "id": "PSXYR_3AN6xR",
    "outputId": "aac98049-d2a1-4e76-ed2a-1fa816e8703a"
   },
   "outputs": [
    {
     "data": {
      "text/html": [
       "<div>\n",
       "<style scoped>\n",
       "    .dataframe tbody tr th:only-of-type {\n",
       "        vertical-align: middle;\n",
       "    }\n",
       "\n",
       "    .dataframe tbody tr th {\n",
       "        vertical-align: top;\n",
       "    }\n",
       "\n",
       "    .dataframe thead th {\n",
       "        text-align: right;\n",
       "    }\n",
       "</style>\n",
       "<table border=\"1\" class=\"dataframe\">\n",
       "  <thead>\n",
       "    <tr style=\"text-align: right;\">\n",
       "      <th></th>\n",
       "      <th>img_pair</th>\n",
       "      <th>is_related</th>\n",
       "    </tr>\n",
       "  </thead>\n",
       "  <tbody>\n",
       "    <tr>\n",
       "      <th>0</th>\n",
       "      <td>face05508.jpg-face01210.jpg</td>\n",
       "      <td>0.320301</td>\n",
       "    </tr>\n",
       "    <tr>\n",
       "      <th>1</th>\n",
       "      <td>face05750.jpg-face00898.jpg</td>\n",
       "      <td>0.404264</td>\n",
       "    </tr>\n",
       "    <tr>\n",
       "      <th>2</th>\n",
       "      <td>face05820.jpg-face03938.jpg</td>\n",
       "      <td>0.458183</td>\n",
       "    </tr>\n",
       "    <tr>\n",
       "      <th>3</th>\n",
       "      <td>face02104.jpg-face01172.jpg</td>\n",
       "      <td>0.404108</td>\n",
       "    </tr>\n",
       "    <tr>\n",
       "      <th>4</th>\n",
       "      <td>face02428.jpg-face05611.jpg</td>\n",
       "      <td>0.756100</td>\n",
       "    </tr>\n",
       "    <tr>\n",
       "      <th>5</th>\n",
       "      <td>face01219.jpg-face00274.jpg</td>\n",
       "      <td>0.227170</td>\n",
       "    </tr>\n",
       "    <tr>\n",
       "      <th>6</th>\n",
       "      <td>face04262.jpg-face00555.jpg</td>\n",
       "      <td>0.327276</td>\n",
       "    </tr>\n",
       "    <tr>\n",
       "      <th>7</th>\n",
       "      <td>face03697.jpg-face01892.jpg</td>\n",
       "      <td>0.597142</td>\n",
       "    </tr>\n",
       "    <tr>\n",
       "      <th>8</th>\n",
       "      <td>face03524.jpg-face00319.jpg</td>\n",
       "      <td>0.552643</td>\n",
       "    </tr>\n",
       "    <tr>\n",
       "      <th>9</th>\n",
       "      <td>face03410.jpg-face05368.jpg</td>\n",
       "      <td>0.142965</td>\n",
       "    </tr>\n",
       "  </tbody>\n",
       "</table>\n",
       "</div>"
      ],
      "text/plain": [
       "                      img_pair  is_related\n",
       "0  face05508.jpg-face01210.jpg    0.320301\n",
       "1  face05750.jpg-face00898.jpg    0.404264\n",
       "2  face05820.jpg-face03938.jpg    0.458183\n",
       "3  face02104.jpg-face01172.jpg    0.404108\n",
       "4  face02428.jpg-face05611.jpg    0.756100\n",
       "5  face01219.jpg-face00274.jpg    0.227170\n",
       "6  face04262.jpg-face00555.jpg    0.327276\n",
       "7  face03697.jpg-face01892.jpg    0.597142\n",
       "8  face03524.jpg-face00319.jpg    0.552643\n",
       "9  face03410.jpg-face05368.jpg    0.142965"
      ]
     },
     "execution_count": 42,
     "metadata": {
      "tags": []
     },
     "output_type": "execute_result"
    }
   ],
   "source": [
    "sub_df.head(10)"
   ]
  },
  {
   "cell_type": "code",
   "execution_count": 0,
   "metadata": {
    "colab": {
     "base_uri": "https://localhost:8080/",
     "height": 34
    },
    "colab_type": "code",
    "id": "uaaNy0rNN6xT",
    "outputId": "973ad5ae-cf6c-415e-af3a-f170f7bcbc8f"
   },
   "outputs": [
    {
     "name": "stdout",
     "output_type": "stream",
     "text": [
      "SUBMISSION COMPLETE!\n"
     ]
    }
   ],
   "source": [
    "sub_df.to_csv(\"submission.csv\", index = False)\n",
    "\n",
    "print(\"SUBMISSION COMPLETE!\")"
   ]
  },
  {
   "cell_type": "markdown",
   "metadata": {
    "colab_type": "text",
    "id": "ppSNU2Z8kxZy"
   },
   "source": [
    "**[20] ALVIN**"
   ]
  },
  {
   "cell_type": "code",
   "execution_count": 0,
   "metadata": {
    "colab": {
     "base_uri": "https://localhost:8080/",
     "height": 266
    },
    "colab_type": "code",
    "id": "rkdd-M9Vk0f0",
    "outputId": "ed17a4c3-cad9-4a29-adb1-42b995942ea9"
   },
   "outputs": [
    {
     "data": {
      "text/html": [
       "<div>\n",
       "<style scoped>\n",
       "    .dataframe tbody tr th:only-of-type {\n",
       "        vertical-align: middle;\n",
       "    }\n",
       "\n",
       "    .dataframe tbody tr th {\n",
       "        vertical-align: top;\n",
       "    }\n",
       "\n",
       "    .dataframe thead th {\n",
       "        text-align: right;\n",
       "    }\n",
       "</style>\n",
       "<table border=\"1\" class=\"dataframe\">\n",
       "  <thead>\n",
       "    <tr style=\"text-align: right;\">\n",
       "      <th></th>\n",
       "      <th>img_pair</th>\n",
       "      <th>is_related</th>\n",
       "    </tr>\n",
       "  </thead>\n",
       "  <tbody>\n",
       "    <tr>\n",
       "      <th>0</th>\n",
       "      <td>facealvin.jpg-facealvinsdad.jpg</td>\n",
       "      <td>0</td>\n",
       "    </tr>\n",
       "    <tr>\n",
       "      <th>1</th>\n",
       "      <td>facealvin.jpg-facealvinsbrother.jpg</td>\n",
       "      <td>0</td>\n",
       "    </tr>\n",
       "    <tr>\n",
       "      <th>2</th>\n",
       "      <td>facealvinsbrother.jpg-facealvinsdad.jpg</td>\n",
       "      <td>0</td>\n",
       "    </tr>\n",
       "    <tr>\n",
       "      <th>3</th>\n",
       "      <td>facedan.jpg-facedansbrother.jpg</td>\n",
       "      <td>0</td>\n",
       "    </tr>\n",
       "    <tr>\n",
       "      <th>4</th>\n",
       "      <td>facesaurabh.jpg-facesaurabhsdad.jpg</td>\n",
       "      <td>0</td>\n",
       "    </tr>\n",
       "    <tr>\n",
       "      <th>5</th>\n",
       "      <td>facesaurabh.jpg-facesaurabhsbrother.jpg</td>\n",
       "      <td>0</td>\n",
       "    </tr>\n",
       "    <tr>\n",
       "      <th>6</th>\n",
       "      <td>facesaurabhsdad.jpg-facesaurabhsbrother.jpg</td>\n",
       "      <td>0</td>\n",
       "    </tr>\n",
       "  </tbody>\n",
       "</table>\n",
       "</div>"
      ],
      "text/plain": [
       "                                      img_pair  is_related\n",
       "0              facealvin.jpg-facealvinsdad.jpg           0\n",
       "1          facealvin.jpg-facealvinsbrother.jpg           0\n",
       "2      facealvinsbrother.jpg-facealvinsdad.jpg           0\n",
       "3              facedan.jpg-facedansbrother.jpg           0\n",
       "4          facesaurabh.jpg-facesaurabhsdad.jpg           0\n",
       "5      facesaurabh.jpg-facesaurabhsbrother.jpg           0\n",
       "6  facesaurabhsdad.jpg-facesaurabhsbrother.jpg           0"
      ]
     },
     "execution_count": 36,
     "metadata": {
      "tags": []
     },
     "output_type": "execute_result"
    }
   ],
   "source": [
    "# Unzip test photos\n",
    "# !unzip test_group.zip\n",
    "\n",
    "# Locate test photos\n",
    "test_img_path_group = Path('/content/test_group/')\n",
    "\n",
    "# Read test csv\n",
    "test_df_group = pd.read_csv('/content/sample_submission_group.csv')\n",
    "test_df_group"
   ]
  },
  {
   "cell_type": "code",
   "execution_count": 0,
   "metadata": {
    "colab": {},
    "colab_type": "code",
    "id": "JnmhbfyqlTdI"
   },
   "outputs": [],
   "source": [
    "def inspect_pair_group(index):\n",
    "\n",
    "    img_1 = mpimg.imread( test_img_path_group / test_df_group.loc[index, 'img_pair'].split('-')[0] )\n",
    "    img_2 = mpimg.imread( test_img_path_group / test_df_group.loc[index, 'img_pair'].split('-')[1] )\n",
    "\n",
    "    fig = plt.figure()\n",
    "    fig.suptitle('Are they related?', fontsize=16)\n",
    "    a = fig.add_subplot(1, 2, 1)\n",
    "    imgplot = plt.imshow(img_1)\n",
    "#     a.set_title('Person 1 - ' + test_df_group.loc[index, 'img_pair'].split('-')[0])\n",
    "    a = fig.add_subplot(1, 2, 2)\n",
    "    imgplot = plt.imshow(img_2)\n",
    "    imgplot.set_clim(0.0, 0.7)\n",
    "#     a.set_title('Person 2 - ' + test_df_group.loc[index, 'img_pair'].split('-')[1])"
   ]
  },
  {
   "cell_type": "code",
   "execution_count": 0,
   "metadata": {
    "colab": {
     "base_uri": "https://localhost:8080/",
     "height": 34
    },
    "colab_type": "code",
    "id": "3gO2YiMlmjjJ",
    "outputId": "590fb166-6ba7-40df-f427-e106fca00d59"
   },
   "outputs": [
    {
     "name": "stderr",
     "output_type": "stream",
     "text": [
      "100%|██████████| 7/7 [00:05<00:00,  1.35it/s]\n"
     ]
    }
   ],
   "source": [
    "def get_source(photo, comboID):\n",
    "    if photo[0:1] == 'P':\n",
    "        return '/content/input/recognizing-faces-in-the-wild/train/' + comboID + '/'\n",
    "    if photo[0:4] == 'face':\n",
    "        return '/content/test_group/'\n",
    "    else:\n",
    "        return '/content/input//faces-data-new/images/'\n",
    "      \n",
    "\n",
    "def get_symmetry(path):\n",
    "    ## Just splits the image in half, then flips one, then compares the difference between the two\n",
    "    \n",
    "    img = cv2.imread(path, cv2.COLOR_BGR2GRAY)\n",
    "    center = img.shape[1]\n",
    "    right_side = img[:,int(img.shape[1]/2):int(img.shape[1])]\n",
    "    left_side = img[:,0:int(img.shape[1]/2)]\n",
    "    right_flipped = cv2.flip( right_side, 1 )\n",
    "    grayA = cv2.cvtColor(left_side, cv2.COLOR_BGR2GRAY)\n",
    "    grayB = cv2.cvtColor(right_flipped, cv2.COLOR_BGR2GRAY)\n",
    "    \n",
    "    (H, W) = grayA.shape\n",
    "    grayB=cv2.resize(grayB,(W,H))\n",
    "    \n",
    "    (score, diff) = compare_ssim(grayA, grayB, full=True)\n",
    "#     imshow(diff)\n",
    "    return score\n",
    "\n",
    "\n",
    "\n",
    "#  FEATURE CREATION FOR TEST DATASET\n",
    "\n",
    "test_df_group['p1_age'] = 0\n",
    "test_df_group['p2_age'] = 0\n",
    "test_df_group['p1_size'] = 0\n",
    "test_df_group['p2_size'] = 0\n",
    "test_df_group['p1_gender'] = 0\n",
    "test_df_group['p2_gender'] = 0\n",
    "test_df_group['perc_diff'] = 0\n",
    "test_df_group['vgg_cosine'] = 0\n",
    "test_df_group['vgg_euclid'] = 0\n",
    "test_df_group['facenet_euclid'] = 0\n",
    "\n",
    "for i in tqdm(range(0, test_df_group.shape[0])):\n",
    "\n",
    "    combo = test_df_group.loc[i, 'img_pair'].split('-')\n",
    "    \n",
    "    results = compare_individuals([combo[0]], [combo[1]] , test_df_group.loc[i, 'img_pair'])\n",
    "    \n",
    "    test_df_group.loc[i, 'p1_age'] = results['p1_age']\n",
    "    test_df_group.loc[i, 'p2_age'] = results['p2_age']\n",
    "    test_df_group.loc[i, 'p1_size'] = results['p1_size']\n",
    "    test_df_group.loc[i, 'p2_size'] = results['p2_size']\n",
    "    test_df_group.loc[i, 'p1_gender'] = results['p1_gender']\n",
    "    test_df_group.loc[i, 'p2_gender'] = results['p2_gender']\n",
    "    test_df_group.loc[i, 'perc_diff'] = results['perc_diff']\n",
    "    test_df_group.loc[i, 'vgg_cosine'] = results['vgg_cosine']\n",
    "    test_df_group.loc[i, 'vgg_euclid'] = results['vgg_euclid']\n",
    "    test_df_group.loc[i, 'facenet_euclid'] = results['facenet_euclid']"
   ]
  },
  {
   "cell_type": "code",
   "execution_count": 0,
   "metadata": {
    "colab": {
     "base_uri": "https://localhost:8080/",
     "height": 405
    },
    "colab_type": "code",
    "id": "8EuNbDDBu6Xg",
    "outputId": "70b8ce35-da0b-41d9-f21b-d56ed3f62e55"
   },
   "outputs": [
    {
     "data": {
      "text/html": [
       "<div>\n",
       "<style scoped>\n",
       "    .dataframe tbody tr th:only-of-type {\n",
       "        vertical-align: middle;\n",
       "    }\n",
       "\n",
       "    .dataframe tbody tr th {\n",
       "        vertical-align: top;\n",
       "    }\n",
       "\n",
       "    .dataframe thead th {\n",
       "        text-align: right;\n",
       "    }\n",
       "</style>\n",
       "<table border=\"1\" class=\"dataframe\">\n",
       "  <thead>\n",
       "    <tr style=\"text-align: right;\">\n",
       "      <th></th>\n",
       "      <th>img_pair</th>\n",
       "      <th>is_related</th>\n",
       "      <th>p1_age</th>\n",
       "      <th>p2_age</th>\n",
       "      <th>p1_size</th>\n",
       "      <th>p2_size</th>\n",
       "      <th>p1_gender</th>\n",
       "      <th>p2_gender</th>\n",
       "      <th>perc_diff</th>\n",
       "      <th>vgg_cosine</th>\n",
       "      <th>vgg_euclid</th>\n",
       "      <th>facenet_euclid</th>\n",
       "    </tr>\n",
       "  </thead>\n",
       "  <tbody>\n",
       "    <tr>\n",
       "      <th>0</th>\n",
       "      <td>facealvin.jpg-facealvinsdad.jpg</td>\n",
       "      <td>0</td>\n",
       "      <td>8</td>\n",
       "      <td>8</td>\n",
       "      <td>804138</td>\n",
       "      <td>453600</td>\n",
       "      <td>0.997165</td>\n",
       "      <td>0.865435</td>\n",
       "      <td>0.245245</td>\n",
       "      <td>0.734757</td>\n",
       "      <td>65.483917</td>\n",
       "      <td>1.373573</td>\n",
       "    </tr>\n",
       "    <tr>\n",
       "      <th>1</th>\n",
       "      <td>facealvin.jpg-facealvinsbrother.jpg</td>\n",
       "      <td>0</td>\n",
       "      <td>8</td>\n",
       "      <td>7</td>\n",
       "      <td>804138</td>\n",
       "      <td>125121</td>\n",
       "      <td>0.997165</td>\n",
       "      <td>0.010465</td>\n",
       "      <td>0.335488</td>\n",
       "      <td>0.317204</td>\n",
       "      <td>49.077164</td>\n",
       "      <td>1.011981</td>\n",
       "    </tr>\n",
       "    <tr>\n",
       "      <th>2</th>\n",
       "      <td>facealvinsbrother.jpg-facealvinsdad.jpg</td>\n",
       "      <td>0</td>\n",
       "      <td>7</td>\n",
       "      <td>8</td>\n",
       "      <td>125121</td>\n",
       "      <td>453600</td>\n",
       "      <td>0.010465</td>\n",
       "      <td>0.865435</td>\n",
       "      <td>0.199160</td>\n",
       "      <td>0.649959</td>\n",
       "      <td>62.873230</td>\n",
       "      <td>1.192005</td>\n",
       "    </tr>\n",
       "    <tr>\n",
       "      <th>3</th>\n",
       "      <td>facedan.jpg-facedansbrother.jpg</td>\n",
       "      <td>0</td>\n",
       "      <td>5</td>\n",
       "      <td>6</td>\n",
       "      <td>134688</td>\n",
       "      <td>430317</td>\n",
       "      <td>0.998307</td>\n",
       "      <td>0.802379</td>\n",
       "      <td>0.272329</td>\n",
       "      <td>0.626105</td>\n",
       "      <td>65.771187</td>\n",
       "      <td>1.255749</td>\n",
       "    </tr>\n",
       "    <tr>\n",
       "      <th>4</th>\n",
       "      <td>facesaurabh.jpg-facesaurabhsdad.jpg</td>\n",
       "      <td>0</td>\n",
       "      <td>5</td>\n",
       "      <td>5</td>\n",
       "      <td>502959</td>\n",
       "      <td>2466816</td>\n",
       "      <td>0.998606</td>\n",
       "      <td>0.958791</td>\n",
       "      <td>0.196661</td>\n",
       "      <td>0.533963</td>\n",
       "      <td>60.935532</td>\n",
       "      <td>1.279121</td>\n",
       "    </tr>\n",
       "    <tr>\n",
       "      <th>5</th>\n",
       "      <td>facesaurabh.jpg-facesaurabhsbrother.jpg</td>\n",
       "      <td>0</td>\n",
       "      <td>5</td>\n",
       "      <td>5</td>\n",
       "      <td>502959</td>\n",
       "      <td>248082</td>\n",
       "      <td>0.998606</td>\n",
       "      <td>0.982191</td>\n",
       "      <td>0.325777</td>\n",
       "      <td>0.344857</td>\n",
       "      <td>50.950439</td>\n",
       "      <td>0.751676</td>\n",
       "    </tr>\n",
       "    <tr>\n",
       "      <th>6</th>\n",
       "      <td>facesaurabhsdad.jpg-facesaurabhsbrother.jpg</td>\n",
       "      <td>0</td>\n",
       "      <td>5</td>\n",
       "      <td>5</td>\n",
       "      <td>2466816</td>\n",
       "      <td>248082</td>\n",
       "      <td>0.958791</td>\n",
       "      <td>0.982191</td>\n",
       "      <td>0.203354</td>\n",
       "      <td>0.543867</td>\n",
       "      <td>57.726025</td>\n",
       "      <td>1.349904</td>\n",
       "    </tr>\n",
       "  </tbody>\n",
       "</table>\n",
       "</div>"
      ],
      "text/plain": [
       "                                      img_pair  ...  facenet_euclid\n",
       "0              facealvin.jpg-facealvinsdad.jpg  ...        1.373573\n",
       "1          facealvin.jpg-facealvinsbrother.jpg  ...        1.011981\n",
       "2      facealvinsbrother.jpg-facealvinsdad.jpg  ...        1.192005\n",
       "3              facedan.jpg-facedansbrother.jpg  ...        1.255749\n",
       "4          facesaurabh.jpg-facesaurabhsdad.jpg  ...        1.279121\n",
       "5      facesaurabh.jpg-facesaurabhsbrother.jpg  ...        0.751676\n",
       "6  facesaurabhsdad.jpg-facesaurabhsbrother.jpg  ...        1.349904\n",
       "\n",
       "[7 rows x 12 columns]"
      ]
     },
     "execution_count": 39,
     "metadata": {
      "tags": []
     },
     "output_type": "execute_result"
    }
   ],
   "source": [
    "test_df_group"
   ]
  },
  {
   "cell_type": "code",
   "execution_count": 0,
   "metadata": {
    "colab": {
     "base_uri": "https://localhost:8080/",
     "height": 283
    },
    "colab_type": "code",
    "id": "F1L6-JCJvpW3",
    "outputId": "bfcb529f-dd33-49da-f44d-18042244abde"
   },
   "outputs": [
    {
     "name": "stdout",
     "output_type": "stream",
     "text": [
      "(7, 10)\n"
     ]
    },
    {
     "data": {
      "text/html": [
       "<div>\n",
       "<style scoped>\n",
       "    .dataframe tbody tr th:only-of-type {\n",
       "        vertical-align: middle;\n",
       "    }\n",
       "\n",
       "    .dataframe tbody tr th {\n",
       "        vertical-align: top;\n",
       "    }\n",
       "\n",
       "    .dataframe thead th {\n",
       "        text-align: right;\n",
       "    }\n",
       "</style>\n",
       "<table border=\"1\" class=\"dataframe\">\n",
       "  <thead>\n",
       "    <tr style=\"text-align: right;\">\n",
       "      <th></th>\n",
       "      <th>p1_age</th>\n",
       "      <th>p2_age</th>\n",
       "      <th>p1_size</th>\n",
       "      <th>p2_size</th>\n",
       "      <th>p1_gender</th>\n",
       "      <th>p2_gender</th>\n",
       "      <th>vgg_cosine</th>\n",
       "      <th>vgg_euclid</th>\n",
       "      <th>perc_diff</th>\n",
       "      <th>facenet_euclid</th>\n",
       "    </tr>\n",
       "  </thead>\n",
       "  <tbody>\n",
       "    <tr>\n",
       "      <th>0</th>\n",
       "      <td>8.0</td>\n",
       "      <td>8.0</td>\n",
       "      <td>804138.0</td>\n",
       "      <td>453600.0</td>\n",
       "      <td>0.997165</td>\n",
       "      <td>0.865435</td>\n",
       "      <td>0.734757</td>\n",
       "      <td>65.483917</td>\n",
       "      <td>0.245245</td>\n",
       "      <td>1.373573</td>\n",
       "    </tr>\n",
       "    <tr>\n",
       "      <th>1</th>\n",
       "      <td>8.0</td>\n",
       "      <td>7.0</td>\n",
       "      <td>804138.0</td>\n",
       "      <td>125121.0</td>\n",
       "      <td>0.997165</td>\n",
       "      <td>0.010465</td>\n",
       "      <td>0.317204</td>\n",
       "      <td>49.077164</td>\n",
       "      <td>0.335488</td>\n",
       "      <td>1.011981</td>\n",
       "    </tr>\n",
       "    <tr>\n",
       "      <th>2</th>\n",
       "      <td>7.0</td>\n",
       "      <td>8.0</td>\n",
       "      <td>125121.0</td>\n",
       "      <td>453600.0</td>\n",
       "      <td>0.010465</td>\n",
       "      <td>0.865435</td>\n",
       "      <td>0.649959</td>\n",
       "      <td>62.873230</td>\n",
       "      <td>0.199160</td>\n",
       "      <td>1.192005</td>\n",
       "    </tr>\n",
       "    <tr>\n",
       "      <th>3</th>\n",
       "      <td>5.0</td>\n",
       "      <td>6.0</td>\n",
       "      <td>134688.0</td>\n",
       "      <td>430317.0</td>\n",
       "      <td>0.998307</td>\n",
       "      <td>0.802379</td>\n",
       "      <td>0.626105</td>\n",
       "      <td>65.771187</td>\n",
       "      <td>0.272329</td>\n",
       "      <td>1.255749</td>\n",
       "    </tr>\n",
       "    <tr>\n",
       "      <th>4</th>\n",
       "      <td>5.0</td>\n",
       "      <td>5.0</td>\n",
       "      <td>502959.0</td>\n",
       "      <td>2466816.0</td>\n",
       "      <td>0.998606</td>\n",
       "      <td>0.958791</td>\n",
       "      <td>0.533963</td>\n",
       "      <td>60.935532</td>\n",
       "      <td>0.196661</td>\n",
       "      <td>1.279121</td>\n",
       "    </tr>\n",
       "    <tr>\n",
       "      <th>5</th>\n",
       "      <td>5.0</td>\n",
       "      <td>5.0</td>\n",
       "      <td>502959.0</td>\n",
       "      <td>248082.0</td>\n",
       "      <td>0.998606</td>\n",
       "      <td>0.982191</td>\n",
       "      <td>0.344857</td>\n",
       "      <td>50.950439</td>\n",
       "      <td>0.325777</td>\n",
       "      <td>0.751676</td>\n",
       "    </tr>\n",
       "    <tr>\n",
       "      <th>6</th>\n",
       "      <td>5.0</td>\n",
       "      <td>5.0</td>\n",
       "      <td>2466816.0</td>\n",
       "      <td>248082.0</td>\n",
       "      <td>0.958791</td>\n",
       "      <td>0.982191</td>\n",
       "      <td>0.543867</td>\n",
       "      <td>57.726025</td>\n",
       "      <td>0.203354</td>\n",
       "      <td>1.349904</td>\n",
       "    </tr>\n",
       "  </tbody>\n",
       "</table>\n",
       "</div>"
      ],
      "text/plain": [
       "   p1_age  p2_age    p1_size  ...  vgg_euclid  perc_diff  facenet_euclid\n",
       "0     8.0     8.0   804138.0  ...   65.483917   0.245245        1.373573\n",
       "1     8.0     7.0   804138.0  ...   49.077164   0.335488        1.011981\n",
       "2     7.0     8.0   125121.0  ...   62.873230   0.199160        1.192005\n",
       "3     5.0     6.0   134688.0  ...   65.771187   0.272329        1.255749\n",
       "4     5.0     5.0   502959.0  ...   60.935532   0.196661        1.279121\n",
       "5     5.0     5.0   502959.0  ...   50.950439   0.325777        0.751676\n",
       "6     5.0     5.0  2466816.0  ...   57.726025   0.203354        1.349904\n",
       "\n",
       "[7 rows x 10 columns]"
      ]
     },
     "execution_count": 40,
     "metadata": {
      "tags": []
     },
     "output_type": "execute_result"
    }
   ],
   "source": [
    "final_test_df_group = test_df_group # test_df_group = sample_submission_group.csv\n",
    "\n",
    "keeper_columns = ['is_related', # target\n",
    "                  'p1_age',\n",
    "                  'p2_age',\n",
    "                  'p1_size',\n",
    "                  'p2_size',\n",
    "                  'p1_gender',           \n",
    "                  'p2_gender',\n",
    "                  'vgg_cosine',\n",
    "                  'vgg_euclid',\n",
    "                  'perc_diff',\n",
    "                  'facenet_euclid'\n",
    "                 ]\n",
    "\n",
    "final_test_df_group = test_df_group[keeper_columns]\n",
    "final_test_df_group = final_test_df_group.drop('is_related', 1)\n",
    "\n",
    "test_cols = ['p1_age',\n",
    "             'p2_age',\n",
    "             'p1_size',\n",
    "             'p2_size',\n",
    "             'p1_gender',\n",
    "             'p2_gender',\n",
    "             'vgg_cosine',\n",
    "             'vgg_euclid',\n",
    "             'perc_diff',\n",
    "             'facenet_euclid'\n",
    "            ]\n",
    "\n",
    "final_test_df_group[test_cols] = final_test_df_group[test_cols].astype(float)\n",
    "\n",
    "print(final_test_df_group.shape)\n",
    "final_test_df_group"
   ]
  },
  {
   "cell_type": "code",
   "execution_count": 0,
   "metadata": {
    "colab": {
     "base_uri": "https://localhost:8080/",
     "height": 266
    },
    "colab_type": "code",
    "id": "7_AL8gq0SN9z",
    "outputId": "21cc3a25-5a56-4d88-fe34-9f7e52442c88"
   },
   "outputs": [
    {
     "data": {
      "text/html": [
       "<div>\n",
       "<style scoped>\n",
       "    .dataframe tbody tr th:only-of-type {\n",
       "        vertical-align: middle;\n",
       "    }\n",
       "\n",
       "    .dataframe tbody tr th {\n",
       "        vertical-align: top;\n",
       "    }\n",
       "\n",
       "    .dataframe thead th {\n",
       "        text-align: right;\n",
       "    }\n",
       "</style>\n",
       "<table border=\"1\" class=\"dataframe\">\n",
       "  <thead>\n",
       "    <tr style=\"text-align: right;\">\n",
       "      <th></th>\n",
       "      <th>img_pair</th>\n",
       "      <th>is_related</th>\n",
       "    </tr>\n",
       "  </thead>\n",
       "  <tbody>\n",
       "    <tr>\n",
       "      <th>0</th>\n",
       "      <td>facealvin.jpg-facealvinsdad.jpg</td>\n",
       "      <td>0.232765</td>\n",
       "    </tr>\n",
       "    <tr>\n",
       "      <th>1</th>\n",
       "      <td>facealvin.jpg-facealvinsbrother.jpg</td>\n",
       "      <td>0.614429</td>\n",
       "    </tr>\n",
       "    <tr>\n",
       "      <th>2</th>\n",
       "      <td>facealvinsbrother.jpg-facealvinsdad.jpg</td>\n",
       "      <td>0.504915</td>\n",
       "    </tr>\n",
       "    <tr>\n",
       "      <th>3</th>\n",
       "      <td>facedan.jpg-facedansbrother.jpg</td>\n",
       "      <td>0.395117</td>\n",
       "    </tr>\n",
       "    <tr>\n",
       "      <th>4</th>\n",
       "      <td>facesaurabh.jpg-facesaurabhsdad.jpg</td>\n",
       "      <td>0.408085</td>\n",
       "    </tr>\n",
       "    <tr>\n",
       "      <th>5</th>\n",
       "      <td>facesaurabh.jpg-facesaurabhsbrother.jpg</td>\n",
       "      <td>0.931521</td>\n",
       "    </tr>\n",
       "    <tr>\n",
       "      <th>6</th>\n",
       "      <td>facesaurabhsdad.jpg-facesaurabhsbrother.jpg</td>\n",
       "      <td>0.269702</td>\n",
       "    </tr>\n",
       "  </tbody>\n",
       "</table>\n",
       "</div>"
      ],
      "text/plain": [
       "                                      img_pair  is_related\n",
       "0              facealvin.jpg-facealvinsdad.jpg    0.232765\n",
       "1          facealvin.jpg-facealvinsbrother.jpg    0.614429\n",
       "2      facealvinsbrother.jpg-facealvinsdad.jpg    0.504915\n",
       "3              facedan.jpg-facedansbrother.jpg    0.395117\n",
       "4          facesaurabh.jpg-facesaurabhsdad.jpg    0.408085\n",
       "5      facesaurabh.jpg-facesaurabhsbrother.jpg    0.931521\n",
       "6  facesaurabhsdad.jpg-facesaurabhsbrother.jpg    0.269702"
      ]
     },
     "execution_count": 41,
     "metadata": {
      "tags": []
     },
     "output_type": "execute_result"
    }
   ],
   "source": [
    "submission_predictions_group = xg_reg.predict(final_test_df_group)\n",
    "sub_df_group = pd.read_csv(\"/content/sample_submission_group.csv\")\n",
    "sub_df_group.is_related = submission_predictions_group\n",
    "sub_df_group"
   ]
  },
  {
   "cell_type": "code",
   "execution_count": 0,
   "metadata": {
    "colab": {},
    "colab_type": "code",
    "id": "tjn5vCkeS1ZT"
   },
   "outputs": [],
   "source": [
    "# sub_df_group.to_csv(\"submission_group.csv\", index = False)"
   ]
  }
 ],
 "metadata": {
  "accelerator": "GPU",
  "colab": {
   "collapsed_sections": [],
   "name": "DeepLearning_OpenKimono.ipynb",
   "provenance": [],
   "version": "0.3.2"
  },
  "kernelspec": {
   "display_name": "Python 3",
   "language": "python",
   "name": "python3"
  },
  "language_info": {
   "codemirror_mode": {
    "name": "ipython",
    "version": 3
   },
   "file_extension": ".py",
   "mimetype": "text/x-python",
   "name": "python",
   "nbconvert_exporter": "python",
   "pygments_lexer": "ipython3",
   "version": "3.6.8"
  }
 },
 "nbformat": 4,
 "nbformat_minor": 1
}
